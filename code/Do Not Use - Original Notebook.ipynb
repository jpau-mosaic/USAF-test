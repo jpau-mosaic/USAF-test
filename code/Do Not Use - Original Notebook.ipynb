{
 "cells": [
  {
   "cell_type": "markdown",
   "metadata": {},
   "source": [
    "# Introduction"
   ]
  },
  {
   "cell_type": "markdown",
   "metadata": {},
   "source": [
    "For this workbook, we are going to look at some flight data. With this data, we are going to take you through what it might look like to ingest, process, and utilize this data to derive some insights. \n",
    "\n",
    "To give some background on the data: \n",
    "\n",
    "This data comes a combination of two systems, the Airport Surface Detection Equipment (ASDE-X) and Airport Surface Surveillance Capability (ASSC). These two systems essentially track the movement of vehicles on the surface of an airport. More information regarding these two system can be found here: https://www.faa.gov/nextgen/programs/adsb/atc/assc/ and https://www.faa.gov/air_traffic/technology/asde-x/. We will be working with a slightly simplified set of data coming from these two systems. \n",
    "\n",
    "The time period of this data is from 8-1-2020 to 9-1-2020. "
   ]
  },
  {
   "cell_type": "markdown",
   "metadata": {},
   "source": [
    "# Ingesting Data + Prep"
   ]
  },
  {
   "cell_type": "code",
   "execution_count": 1,
   "metadata": {},
   "outputs": [],
   "source": [
    "# Import Libraries\n",
    "\n",
    "import pandas as pd\n",
    "import matplotlib.pyplot as plt\n",
    "import plotly.graph_objects as go\n",
    "import numpy as np\n",
    "import datetime"
   ]
  },
  {
   "cell_type": "code",
   "execution_count": 2,
   "metadata": {},
   "outputs": [],
   "source": [
    "# Ingest Data\n",
    "\n",
    "# Change path name to '/home/jovyan/data/flight_data.csv' when online\n",
    "df = pd.read_csv(r'C:\\Users\\jpau\\Documents\\Projects\\Airforce\\data\\flight_data.csv')"
   ]
  },
  {
   "cell_type": "markdown",
   "metadata": {},
   "source": [
    "# Basic Info"
   ]
  },
  {
   "cell_type": "markdown",
   "metadata": {},
   "source": [
    "First, let's see what kind of data we are working with. Let's look at how much data we are working with, what kind of attributes we have, and finally we are the types of data stored in these attributes."
   ]
  },
  {
   "cell_type": "code",
   "execution_count": 3,
   "metadata": {},
   "outputs": [
    {
     "name": "stdout",
     "output_type": "stream",
     "text": [
      "Shape of DF:  (2489363, 11)\n"
     ]
    }
   ],
   "source": [
    "print(\"Shape of DF: \", df.shape)"
   ]
  },
  {
   "cell_type": "markdown",
   "metadata": {},
   "source": [
    "So at first glance, we see that there are around ~309,000 different flight observations with each flight have 13 different attributes associated with it. Let's see what the attributes are."
   ]
  },
  {
   "cell_type": "code",
   "execution_count": 4,
   "metadata": {
    "scrolled": false
   },
   "outputs": [
    {
     "name": "stdout",
     "output_type": "stream",
     "text": [
      "Column Types of DF:  Unnamed: 0              int64\n",
      "airport                object\n",
      "track                   int64\n",
      "stid                    int64\n",
      "call_sign              object\n",
      "time                   object\n",
      "event                  object\n",
      "status                 object\n",
      "departure_airport      object\n",
      "destination_airport    object\n",
      "timestamp              object\n",
      "dtype: object\n"
     ]
    }
   ],
   "source": [
    "print(\"Column Types of DF: \", df.dtypes)"
   ]
  },
  {
   "cell_type": "markdown",
   "metadata": {},
   "source": [
    "Okay, so at first glance. we can see that most of the data that we have to work with are objects, in other words strings, while there are a few columns that seem to be numbers, namely track and stid. \n",
    "\n",
    "Next, let's actually look at a snippet of the data. "
   ]
  },
  {
   "cell_type": "code",
   "execution_count": 5,
   "metadata": {
    "scrolled": true
   },
   "outputs": [
    {
     "data": {
      "text/html": [
       "<div>\n",
       "<style scoped>\n",
       "    .dataframe tbody tr th:only-of-type {\n",
       "        vertical-align: middle;\n",
       "    }\n",
       "\n",
       "    .dataframe tbody tr th {\n",
       "        vertical-align: top;\n",
       "    }\n",
       "\n",
       "    .dataframe thead th {\n",
       "        text-align: right;\n",
       "    }\n",
       "</style>\n",
       "<table border=\"1\" class=\"dataframe\">\n",
       "  <thead>\n",
       "    <tr style=\"text-align: right;\">\n",
       "      <th></th>\n",
       "      <th>Unnamed: 0</th>\n",
       "      <th>airport</th>\n",
       "      <th>track</th>\n",
       "      <th>stid</th>\n",
       "      <th>call_sign</th>\n",
       "      <th>time</th>\n",
       "      <th>event</th>\n",
       "      <th>status</th>\n",
       "      <th>departure_airport</th>\n",
       "      <th>destination_airport</th>\n",
       "      <th>timestamp</th>\n",
       "    </tr>\n",
       "  </thead>\n",
       "  <tbody>\n",
       "    <tr>\n",
       "      <th>0</th>\n",
       "      <td>0</td>\n",
       "      <td>KMIA</td>\n",
       "      <td>2088</td>\n",
       "      <td>9375251</td>\n",
       "      <td>UAL2081</td>\n",
       "      <td>2020-01-01 00:00:07</td>\n",
       "      <td>on</td>\n",
       "      <td>onsurface</td>\n",
       "      <td>KORD</td>\n",
       "      <td>KMIA</td>\n",
       "      <td>2020-01-01 00:00:00</td>\n",
       "    </tr>\n",
       "    <tr>\n",
       "      <th>1</th>\n",
       "      <td>1</td>\n",
       "      <td>KPIT</td>\n",
       "      <td>3534</td>\n",
       "      <td>339554</td>\n",
       "      <td>SWA4052</td>\n",
       "      <td>2020-01-01 00:00:08</td>\n",
       "      <td>off</td>\n",
       "      <td>airborne</td>\n",
       "      <td>NaN</td>\n",
       "      <td>NaN</td>\n",
       "      <td>2020-01-01 00:00:00</td>\n",
       "    </tr>\n",
       "    <tr>\n",
       "      <th>2</th>\n",
       "      <td>2</td>\n",
       "      <td>KMSY</td>\n",
       "      <td>4057</td>\n",
       "      <td>68290</td>\n",
       "      <td>SWA5830</td>\n",
       "      <td>2020-01-01 00:00:08</td>\n",
       "      <td>on</td>\n",
       "      <td>onsurface</td>\n",
       "      <td>NaN</td>\n",
       "      <td>NaN</td>\n",
       "      <td>2020-01-01 00:00:00</td>\n",
       "    </tr>\n",
       "    <tr>\n",
       "      <th>3</th>\n",
       "      <td>3</td>\n",
       "      <td>KMEM</td>\n",
       "      <td>3263</td>\n",
       "      <td>515627</td>\n",
       "      <td>AAL1996</td>\n",
       "      <td>2020-01-01 00:00:09</td>\n",
       "      <td>on</td>\n",
       "      <td>onsurface</td>\n",
       "      <td>KDFW</td>\n",
       "      <td>KMEM</td>\n",
       "      <td>2020-01-01 00:00:00</td>\n",
       "    </tr>\n",
       "    <tr>\n",
       "      <th>4</th>\n",
       "      <td>4</td>\n",
       "      <td>KDFW</td>\n",
       "      <td>683</td>\n",
       "      <td>1390176</td>\n",
       "      <td>AAL2346</td>\n",
       "      <td>2020-01-01 00:00:11</td>\n",
       "      <td>on</td>\n",
       "      <td>onsurface</td>\n",
       "      <td>KORD</td>\n",
       "      <td>KDFW</td>\n",
       "      <td>2020-01-01 00:00:00</td>\n",
       "    </tr>\n",
       "  </tbody>\n",
       "</table>\n",
       "</div>"
      ],
      "text/plain": [
       "   Unnamed: 0 airport  track     stid call_sign                 time event  \\\n",
       "0           0    KMIA   2088  9375251   UAL2081  2020-01-01 00:00:07    on   \n",
       "1           1    KPIT   3534   339554   SWA4052  2020-01-01 00:00:08   off   \n",
       "2           2    KMSY   4057    68290   SWA5830  2020-01-01 00:00:08    on   \n",
       "3           3    KMEM   3263   515627   AAL1996  2020-01-01 00:00:09    on   \n",
       "4           4    KDFW    683  1390176   AAL2346  2020-01-01 00:00:11    on   \n",
       "\n",
       "      status departure_airport destination_airport            timestamp  \n",
       "0  onsurface              KORD                KMIA  2020-01-01 00:00:00  \n",
       "1   airborne               NaN                 NaN  2020-01-01 00:00:00  \n",
       "2  onsurface               NaN                 NaN  2020-01-01 00:00:00  \n",
       "3  onsurface              KDFW                KMEM  2020-01-01 00:00:00  \n",
       "4  onsurface              KORD                KDFW  2020-01-01 00:00:00  "
      ]
     },
     "execution_count": 5,
     "metadata": {},
     "output_type": "execute_result"
    }
   ],
   "source": [
    "df.head()"
   ]
  },
  {
   "cell_type": "markdown",
   "metadata": {},
   "source": [
    "So after taking a quick peek at the data, there are some observations that can be made. Namely, it seems that each observation represents an flight, uniquely labeled by the columns \"stid\". Moreover, each observation records seems to either record a single leg trip, showing whole trip but only recording the landing or taking off in the \"event\" column. Finally, it seems the \"timestamp\" column is the nearest hour of the \"time\" column. "
   ]
  },
  {
   "cell_type": "markdown",
   "metadata": {},
   "source": [
    "# Missing Data"
   ]
  },
  {
   "cell_type": "markdown",
   "metadata": {},
   "source": [
    "Next, let's see if this data is complete. Often, datasets that we get will have unclean and missing data. So, often the first step in understanding the data is to explore and handle these unclean and missing data."
   ]
  },
  {
   "cell_type": "code",
   "execution_count": 6,
   "metadata": {},
   "outputs": [
    {
     "data": {
      "text/plain": [
       "Unnamed: 0                  0\n",
       "airport                     0\n",
       "track                       0\n",
       "stid                        0\n",
       "call_sign                   0\n",
       "time                        0\n",
       "event                   49787\n",
       "status                      0\n",
       "departure_airport      222797\n",
       "destination_airport    222797\n",
       "timestamp                   0\n",
       "dtype: int64"
      ]
     },
     "execution_count": 6,
     "metadata": {},
     "output_type": "execute_result"
    }
   ],
   "source": [
    "# Missing Info\n",
    "df.isnull().sum()"
   ]
  },
  {
   "cell_type": "markdown",
   "metadata": {},
   "source": [
    "So it seems the only missing data are the departure and destination airports for a portion of the data. While we can impute the either the departure or destination airports, incomplete flights are not that useful. So we will remove them. Moreover, this data is derived from the SFDPS flight plan data, therefore there might be a problem that we cannot control. So while this is a significant portion of the data, for this exercise, let us get drop these missing values. "
   ]
  },
  {
   "cell_type": "code",
   "execution_count": 7,
   "metadata": {},
   "outputs": [],
   "source": [
    "df = df[df['departure_airport'].notnull()]"
   ]
  },
  {
   "cell_type": "code",
   "execution_count": null,
   "metadata": {},
   "outputs": [],
   "source": [
    "# impute data ????"
   ]
  },
  {
   "cell_type": "markdown",
   "metadata": {},
   "source": [
    "# Cleaning the data"
   ]
  },
  {
   "cell_type": "markdown",
   "metadata": {},
   "source": [
    "So from the data it seems that the airport column should be the same as the departure or destination airport columns depending on whether it is a take off or landing. However there are some exceptions. There are cases in which this is not the case. \n",
    "\n",
    "eg. for a takeoff, the reporting airport should be the departure airport (and visa-versa). However, we see that there are a number of cases in which this is not the case. It may be an bad sensor or a mistake in reporting. In either case, let's look at these cases and decide what to do with them. "
   ]
  },
  {
   "cell_type": "code",
   "execution_count": 8,
   "metadata": {
    "scrolled": false
   },
   "outputs": [
    {
     "data": {
      "text/html": [
       "<div>\n",
       "<style scoped>\n",
       "    .dataframe tbody tr th:only-of-type {\n",
       "        vertical-align: middle;\n",
       "    }\n",
       "\n",
       "    .dataframe tbody tr th {\n",
       "        vertical-align: top;\n",
       "    }\n",
       "\n",
       "    .dataframe thead th {\n",
       "        text-align: right;\n",
       "    }\n",
       "</style>\n",
       "<table border=\"1\" class=\"dataframe\">\n",
       "  <thead>\n",
       "    <tr style=\"text-align: right;\">\n",
       "      <th></th>\n",
       "      <th>airport</th>\n",
       "      <th>stid</th>\n",
       "      <th>call_sign</th>\n",
       "      <th>time</th>\n",
       "      <th>event</th>\n",
       "      <th>departure_airport</th>\n",
       "      <th>destination_airport</th>\n",
       "    </tr>\n",
       "  </thead>\n",
       "  <tbody>\n",
       "    <tr>\n",
       "      <td>2838</td>\n",
       "      <td>KBWI</td>\n",
       "      <td>1423638</td>\n",
       "      <td>SWA2002</td>\n",
       "      <td>8/1/2020 13:26</td>\n",
       "      <td>off</td>\n",
       "      <td>KTPA</td>\n",
       "      <td>KBWI</td>\n",
       "    </tr>\n",
       "    <tr>\n",
       "      <td>6133</td>\n",
       "      <td>KEWR</td>\n",
       "      <td>4865228</td>\n",
       "      <td>UAL1600</td>\n",
       "      <td>8/1/2020 18:27</td>\n",
       "      <td>off</td>\n",
       "      <td>KFLL</td>\n",
       "      <td>KEWR</td>\n",
       "    </tr>\n",
       "    <tr>\n",
       "      <td>13976</td>\n",
       "      <td>KCLT</td>\n",
       "      <td>2046513</td>\n",
       "      <td>AAL2895</td>\n",
       "      <td>8/2/2020 16:09</td>\n",
       "      <td>off</td>\n",
       "      <td>KORD</td>\n",
       "      <td>KCLT</td>\n",
       "    </tr>\n",
       "    <tr>\n",
       "      <td>14702</td>\n",
       "      <td>KSAN</td>\n",
       "      <td>382922</td>\n",
       "      <td>DAL884</td>\n",
       "      <td>8/2/2020 17:20</td>\n",
       "      <td>off</td>\n",
       "      <td>KDTW</td>\n",
       "      <td>KSAN</td>\n",
       "    </tr>\n",
       "    <tr>\n",
       "      <td>19157</td>\n",
       "      <td>KMDW</td>\n",
       "      <td>1724099</td>\n",
       "      <td>SWA2214</td>\n",
       "      <td>8/2/2020 23:51</td>\n",
       "      <td>off</td>\n",
       "      <td>KLGA</td>\n",
       "      <td>KMDW</td>\n",
       "    </tr>\n",
       "  </tbody>\n",
       "</table>\n",
       "</div>"
      ],
      "text/plain": [
       "      airport     stid call_sign            time event departure_airport  \\\n",
       "2838     KBWI  1423638   SWA2002  8/1/2020 13:26   off              KTPA   \n",
       "6133     KEWR  4865228   UAL1600  8/1/2020 18:27   off              KFLL   \n",
       "13976    KCLT  2046513   AAL2895  8/2/2020 16:09   off              KORD   \n",
       "14702    KSAN   382922    DAL884  8/2/2020 17:20   off              KDTW   \n",
       "19157    KMDW  1724099   SWA2214  8/2/2020 23:51   off              KLGA   \n",
       "\n",
       "      destination_airport  \n",
       "2838                 KBWI  \n",
       "6133                 KEWR  \n",
       "13976                KCLT  \n",
       "14702                KSAN  \n",
       "19157                KMDW  "
      ]
     },
     "execution_count": 8,
     "metadata": {},
     "output_type": "execute_result"
    }
   ],
   "source": [
    "df[(df['destination_airport'].notnull()) & (df['destination_airport'] == df['airport']) & (df['destination_airport'] != df['departure_airport']) & (df['event'] == 'off')][['airport','stid','call_sign','time','event','departure_airport','destination_airport']].head()"
   ]
  },
  {
   "cell_type": "markdown",
   "metadata": {},
   "source": [
    "So we found all the takeoffs that didn't seem right. Can we do this for all the landing as well?"
   ]
  },
  {
   "cell_type": "code",
   "execution_count": 9,
   "metadata": {},
   "outputs": [],
   "source": [
    "# Exercise Here"
   ]
  },
  {
   "cell_type": "code",
   "execution_count": 10,
   "metadata": {
    "scrolled": false
   },
   "outputs": [
    {
     "data": {
      "text/html": [
       "<div>\n",
       "<style scoped>\n",
       "    .dataframe tbody tr th:only-of-type {\n",
       "        vertical-align: middle;\n",
       "    }\n",
       "\n",
       "    .dataframe tbody tr th {\n",
       "        vertical-align: top;\n",
       "    }\n",
       "\n",
       "    .dataframe thead th {\n",
       "        text-align: right;\n",
       "    }\n",
       "</style>\n",
       "<table border=\"1\" class=\"dataframe\">\n",
       "  <thead>\n",
       "    <tr style=\"text-align: right;\">\n",
       "      <th></th>\n",
       "      <th>airport</th>\n",
       "      <th>stid</th>\n",
       "      <th>call_sign</th>\n",
       "      <th>time</th>\n",
       "      <th>event</th>\n",
       "      <th>departure_airport</th>\n",
       "      <th>destination_airport</th>\n",
       "    </tr>\n",
       "  </thead>\n",
       "  <tbody>\n",
       "    <tr>\n",
       "      <td>177</td>\n",
       "      <td>KJFK</td>\n",
       "      <td>10068693</td>\n",
       "      <td>DAL8786</td>\n",
       "      <td>8/1/2020 0:14</td>\n",
       "      <td>on</td>\n",
       "      <td>KJFK</td>\n",
       "      <td>MDST</td>\n",
       "    </tr>\n",
       "    <tr>\n",
       "      <td>945</td>\n",
       "      <td>KLAS</td>\n",
       "      <td>2251523</td>\n",
       "      <td>SWA460</td>\n",
       "      <td>8/1/2020 1:44</td>\n",
       "      <td>on</td>\n",
       "      <td>KLAS</td>\n",
       "      <td>KOAK</td>\n",
       "    </tr>\n",
       "    <tr>\n",
       "      <td>5067</td>\n",
       "      <td>KATL</td>\n",
       "      <td>8857217</td>\n",
       "      <td>DAL421</td>\n",
       "      <td>8/1/2020 16:51</td>\n",
       "      <td>on</td>\n",
       "      <td>KATL</td>\n",
       "      <td>TISX</td>\n",
       "    </tr>\n",
       "    <tr>\n",
       "      <td>5412</td>\n",
       "      <td>KHOU</td>\n",
       "      <td>810091</td>\n",
       "      <td>SWA3006</td>\n",
       "      <td>8/1/2020 17:24</td>\n",
       "      <td>on</td>\n",
       "      <td>KHOU</td>\n",
       "      <td>MMSD</td>\n",
       "    </tr>\n",
       "    <tr>\n",
       "      <td>5423</td>\n",
       "      <td>KLAS</td>\n",
       "      <td>2254717</td>\n",
       "      <td>SWA2366</td>\n",
       "      <td>8/1/2020 17:25</td>\n",
       "      <td>on</td>\n",
       "      <td>KLAS</td>\n",
       "      <td>KDAL</td>\n",
       "    </tr>\n",
       "  </tbody>\n",
       "</table>\n",
       "</div>"
      ],
      "text/plain": [
       "     airport      stid call_sign            time event departure_airport  \\\n",
       "177     KJFK  10068693   DAL8786   8/1/2020 0:14    on              KJFK   \n",
       "945     KLAS   2251523    SWA460   8/1/2020 1:44    on              KLAS   \n",
       "5067    KATL   8857217    DAL421  8/1/2020 16:51    on              KATL   \n",
       "5412    KHOU    810091   SWA3006  8/1/2020 17:24    on              KHOU   \n",
       "5423    KLAS   2254717   SWA2366  8/1/2020 17:25    on              KLAS   \n",
       "\n",
       "     destination_airport  \n",
       "177                 MDST  \n",
       "945                 KOAK  \n",
       "5067                TISX  \n",
       "5412                MMSD  \n",
       "5423                KDAL  "
      ]
     },
     "execution_count": 10,
     "metadata": {},
     "output_type": "execute_result"
    }
   ],
   "source": [
    "################\n",
    "### Solution ###\n",
    "################\n",
    "\n",
    "df[(df['destination_airport'].notnull()) & (df['departure_airport'] == df['airport']) & (df['event'] == 'on') & (df['destination_airport'] != df['departure_airport'])][['airport','stid','call_sign','time','event','departure_airport','destination_airport']].head()"
   ]
  },
  {
   "cell_type": "markdown",
   "metadata": {},
   "source": [
    "After inspection, we see that there only a small number of cases compared to the total amount of cases, so let's drop them because we don't have any additional information regarding them."
   ]
  },
  {
   "cell_type": "code",
   "execution_count": 11,
   "metadata": {},
   "outputs": [],
   "source": [
    "df = df[((df['destination_airport'] == df['airport']) & (df['event'] == 'on')) | \n",
    "       ((df['departure_airport'] == df['airport']) & (df['event'] == 'off'))]"
   ]
  },
  {
   "cell_type": "markdown",
   "metadata": {},
   "source": [
    "Next though we know the dates for the data, we should double check. So let's see what the dates of the data are. "
   ]
  },
  {
   "cell_type": "code",
   "execution_count": 12,
   "metadata": {
    "scrolled": true
   },
   "outputs": [
    {
     "name": "stdout",
     "output_type": "stream",
     "text": [
      "First event: 7/31/2020 23:58\n",
      " Last event: 8/9/2020 9:59\n"
     ]
    }
   ],
   "source": [
    "print('First event:', df['time'].min())\n",
    "print(' Last event:', df['time'].max())"
   ]
  },
  {
   "cell_type": "code",
   "execution_count": 13,
   "metadata": {},
   "outputs": [
    {
     "data": {
      "text/plain": [
       "18"
      ]
     },
     "execution_count": 13,
     "metadata": {},
     "output_type": "execute_result"
    }
   ],
   "source": [
    "df[df['time'] < '8/1/2020']['airport'].count()"
   ]
  },
  {
   "cell_type": "markdown",
   "metadata": {},
   "source": [
    "So we see that there are some events that occur before August 1st even though its a couple minutes before August 1st. Though it doesn't necessarily mean significantly impact the data in any way, let us clean this data so that it is consistent. "
   ]
  },
  {
   "cell_type": "code",
   "execution_count": 14,
   "metadata": {},
   "outputs": [],
   "source": [
    "df = df[df['time'] >= '8/1/2020']"
   ]
  },
  {
   "cell_type": "raw",
   "metadata": {},
   "source": [
    "##################################\n",
    "##### Things to possibly add #####\n",
    "##################################\n",
    "\n",
    "Make bad data \n",
    "- Make duplicate data\n",
    "- insert fake null values\n",
    "    - impute\n",
    "- wrong letter casing  \n",
    "\n"
   ]
  },
  {
   "cell_type": "markdown",
   "metadata": {},
   "source": [
    "# EDA"
   ]
  },
  {
   "cell_type": "markdown",
   "metadata": {},
   "source": [
    "Now that we have done some clean up, let's explore the data. The first thing that is of interest is the airports. "
   ]
  },
  {
   "cell_type": "code",
   "execution_count": 15,
   "metadata": {},
   "outputs": [
    {
     "name": "stdout",
     "output_type": "stream",
     "text": [
      "['KDFW' 'KORD' 'KATL' 'KMSP' 'KDEN' 'KSTL' 'KHOU' 'KIAH' 'KMDW' 'KMIA'\n",
      " 'KCLT' 'KSAN' 'KLGA' 'KLAS' 'KPHL' 'KSLC' 'KDTW' 'KPVD' 'KBOS' 'KJFK'\n",
      " 'KPHX' 'KLAX' 'KFLL' 'KDCA' 'KBWI' 'KSNA' 'KSEA' 'KMEM' 'KMCO' 'KEWR'\n",
      " 'KMKE' 'KIAD' 'KBDL' 'KSDF']\n"
     ]
    }
   ],
   "source": [
    "# US Airport Names\n",
    "print(df['airport'].unique())"
   ]
  },
  {
   "cell_type": "code",
   "execution_count": 16,
   "metadata": {
    "scrolled": false
   },
   "outputs": [
    {
     "name": "stdout",
     "output_type": "stream",
     "text": [
      "['KDTW' 'KORD' 'KATL' 'KSEA' 'KIAD' 'KDEN' 'KMSP' 'KSTL' 'KHOU' 'KLGA'\n",
      " 'KSMF' 'KMDW' 'KDAL' 'KMIA' 'KCLT' 'KPHL' 'KOAK' 'KGEG' 'KSAN' 'KDFW'\n",
      " 'KSLC' 'KDCA' 'KIAH' 'KLAS' 'KIND' 'MMMX' 'KMCO' 'KPHX' 'KLAX' 'KOMA'\n",
      " 'KBOS' 'KBWI' 'KSNA' 'KPDX' 'KFLL' 'KJFK' 'KBNA' 'KTUS' 'KMCI' 'KBOI'\n",
      " 'KMYR' 'KSJC' 'KONT' 'KRSW' 'KCMH' 'KBHM' 'MMSD' 'KSAT' 'KBUR' 'KORF'\n",
      " 'KAUS' 'KBDL' 'KEWR' 'KJAC' 'KELP' 'TJSJ' 'KTPA' 'KMKE' 'KMSY' 'KSFO'\n",
      " 'RJAA' 'KTUL' 'KRDU' 'KOKC' 'MDPC' 'KFAT' 'MMUN' 'KPNS' 'KPIT' 'MROC'\n",
      " 'KMEM' 'KSDF' 'PANC' 'MSLP' 'MMPR' 'KABQ' 'KVCV' 'KMZJ' 'KGRR' 'LIMC'\n",
      " 'LIRF' 'MGGT' 'KRNO' 'KCOS' 'EGLL' 'SPJC' 'KDAB' 'PHNL' 'PGUM' 'LLBG'\n",
      " 'VIDP' 'VABB' 'SBGR' 'SAEZ' 'KPVD' 'SEGU' 'KSAV' 'KJAX' 'KGSP' 'KGSO'\n",
      " 'KCHS' 'KAGS' 'KISP' 'KMLB' 'MDSD' 'KSRQ' 'KALB' 'KMHT' 'KRIC' 'KROC'\n",
      " 'KCLE' 'KBUF' 'KPWM' 'PHKO' 'PHOG' 'SEQM' 'KSYR' 'KCVG' 'KMDT' 'KECP'\n",
      " 'KPBI' 'KLIT' 'KCHA' 'KHRL' 'KEYW' 'RJTT' 'KMSN' 'KICT' 'KCRP' 'KDSM'\n",
      " 'KTLH' 'PAFA' 'KMAF' 'KVPS' 'YSSY' 'RKSI' 'KATW' 'KBZN' 'KILM' 'KCAE'\n",
      " 'KBIL' 'KGPI' 'ZSPD' 'LFPG' 'KPSP' 'EHAM' 'EDDF' 'PAJN' 'EIDW' 'KILN'\n",
      " 'ZBAA' 'EBBR' 'TIST' 'MKJS' 'MMLO' 'LEMD' 'MKJP' 'MTPP' 'MMCZ' 'LSZH'\n",
      " 'KLGB' 'KLBB' 'MDPP' 'MBPV' 'TISX' 'MMGL' 'MMMY' 'MDST' 'KMSO' 'TNCA'\n",
      " 'TVSA' 'KJAN' 'CYYC' 'TNCM' 'TXKF' 'TAPA' 'KEGE' 'KAVL' 'CYVR' 'TLPL'\n",
      " 'KMTJ' 'SCEL' 'PHLI' 'KFAR' 'EDDM' 'MYNN' 'KMKC' 'GOBD' 'KHSV' 'KSBA'\n",
      " 'KMWH' 'KSWF' 'KBFI' 'KRAP' 'KRIV' 'KNKX' 'MHTG' 'KOAJ' 'KBKL' 'KPAE'\n",
      " 'KCPS' 'IRQ070011' 'KAEX' 'KNPA' 'MPTO' 'MHLM' 'KGTB' 'MZBZ' 'CYEG'\n",
      " 'KTVC' 'KBFM' 'KRST' 'KDLH' 'SUMU' 'SYCJ' 'KPTK' 'KTYS' 'KLSF' 'EGPH'\n",
      " 'KAMA' 'KGYR' 'KCYS' 'KNJK' 'KMHK' 'BTV068058' '4520N/07133W'\n",
      " '4510N/07339W' 'KFHU' '4522N/07202W' 'KSPS' 'KGRK' 'GADKI' 'KABI' 'EDFH'\n",
      " 'KSGF' 'DIXIE' 'KINT' 'MMQT' 'KHOP' 'KNKT' 'EYW270121' 'MMGT' 'CYYZ'\n",
      " 'KPHF' 'KLAW' 'KRCA' 'EPPO' 'EGPF' 'KNYL' 'KXNA' 'KRFD' 'KBFF' 'SKCL'\n",
      " 'KTBN' '4108N/06716W']\n"
     ]
    }
   ],
   "source": [
    "# Weird Airport Names\n",
    "print(df['departure_airport'].unique())"
   ]
  },
  {
   "cell_type": "markdown",
   "metadata": {},
   "source": [
    "The first we notice is that in the airport column, there are only US airports as indicated by the 'K' as the first character in the airport name. However, in the departure and destination airport columns, we see a whole host of airports from around the world. That makes sense because we are only looking at american based airlines who tend to operate in the US. We can use this knowledge to create a variable to determine if a flight is local or international which may be interesting to look at. \n",
    "\n",
    "We also see some weird names for airports. We can leave them for now since there is no way to verify what airports they belong to."
   ]
  },
  {
   "cell_type": "code",
   "execution_count": 17,
   "metadata": {},
   "outputs": [],
   "source": [
    "# Local or International Flights\n",
    "df['type_of_flight'] = np.where((df['departure_airport'].str[0] == 'K') & (df['destination_airport'].str[0] == 'K'), 'local', 'international')"
   ]
  },
  {
   "cell_type": "markdown",
   "metadata": {},
   "source": [
    "Next let's look at the call sign column. The call signs are used to identify themselves. We know that generally the first 3 characters of the call sign indicate which airlines they are from. So let's look at which airlines are represented here."
   ]
  },
  {
   "cell_type": "code",
   "execution_count": 18,
   "metadata": {},
   "outputs": [
    {
     "data": {
      "text/plain": [
       "array(['AAL', 'UAL', 'SWA', 'DAL'], dtype=object)"
      ]
     },
     "execution_count": 18,
     "metadata": {},
     "output_type": "execute_result"
    }
   ],
   "source": [
    "df['call_sign'].str[:3].unique()"
   ]
  },
  {
   "cell_type": "markdown",
   "metadata": {},
   "source": [
    "We see that there are 4 different airlines: United, Delta, Southwest and American Airlines. Let's make a separate column so that this data can be used later. "
   ]
  },
  {
   "cell_type": "code",
   "execution_count": 19,
   "metadata": {},
   "outputs": [],
   "source": [
    "df['airline'] = df['call_sign'].str[:3]"
   ]
  },
  {
   "cell_type": "markdown",
   "metadata": {},
   "source": [
    "Another column worth looking at is the event column. It determines whether a flight is taking off or landing. "
   ]
  },
  {
   "cell_type": "code",
   "execution_count": 20,
   "metadata": {
    "scrolled": false
   },
   "outputs": [
    {
     "data": {
      "text/html": [
       "<div>\n",
       "<style scoped>\n",
       "    .dataframe tbody tr th:only-of-type {\n",
       "        vertical-align: middle;\n",
       "    }\n",
       "\n",
       "    .dataframe tbody tr th {\n",
       "        vertical-align: top;\n",
       "    }\n",
       "\n",
       "    .dataframe thead th {\n",
       "        text-align: right;\n",
       "    }\n",
       "</style>\n",
       "<table border=\"1\" class=\"dataframe\">\n",
       "  <thead>\n",
       "    <tr style=\"text-align: right;\">\n",
       "      <th></th>\n",
       "      <th>event</th>\n",
       "      <th>count</th>\n",
       "    </tr>\n",
       "  </thead>\n",
       "  <tbody>\n",
       "    <tr>\n",
       "      <td>0</td>\n",
       "      <td>off</td>\n",
       "      <td>141869</td>\n",
       "    </tr>\n",
       "    <tr>\n",
       "      <td>1</td>\n",
       "      <td>on</td>\n",
       "      <td>142082</td>\n",
       "    </tr>\n",
       "  </tbody>\n",
       "</table>\n",
       "</div>"
      ],
      "text/plain": [
       "  event   count\n",
       "0   off  141869\n",
       "1    on  142082"
      ]
     },
     "execution_count": 20,
     "metadata": {},
     "output_type": "execute_result"
    }
   ],
   "source": [
    "df.groupby('event')['event'].count().reset_index(name = 'count')"
   ]
  },
  {
   "cell_type": "markdown",
   "metadata": {},
   "source": [
    "We see that there are more take-offs and landings. Though the numbers are pretty close. This makes sense. We arbitrary determined a starting and ending time meaning that we could have cut off some information of flights taking off and landing. Not too big of a concern.\n",
    "\n",
    "For now, we can table looking at some of the other variables such as latitude, longitude, and altitude. They are not necessarily all that interesting for this exercise. \n",
    "\n",
    "Let's on exploring some of the actual flight data. One the best ways to do this is to ask questions to learn about the data. From there we can observe if there are any anomilies or interesting results that might be able to glean from the data."
   ]
  },
  {
   "cell_type": "markdown",
   "metadata": {},
   "source": [
    "### What are the busiest / most trafficked airports?"
   ]
  },
  {
   "cell_type": "code",
   "execution_count": 21,
   "metadata": {
    "scrolled": true
   },
   "outputs": [
    {
     "data": {
      "text/plain": [
       "<BarContainer object of 10 artists>"
      ]
     },
     "execution_count": 21,
     "metadata": {},
     "output_type": "execute_result"
    },
    {
     "data": {
      "image/png": "[encoded data removed]",
      "text/plain": [
       "<Figure size 432x288 with 1 Axes>"
      ]
     },
     "metadata": {
      "needs_background": "light"
     },
     "output_type": "display_data"
    }
   ],
   "source": [
    "df_airports = df.groupby(['airport','event'])['airport'].count().reset_index(name = 'count').sort_values(['event','count'], ascending = False)\n",
    "\n",
    "# Most Busy Airports in USA\n",
    "plt.bar(df_airports[df_airports['event'] == 'on']['airport'].head(10), df_airports[df_airports['event'] == 'on']['count'].head(10))"
   ]
  },
  {
   "cell_type": "markdown",
   "metadata": {},
   "source": [
    "Let's see this same data but broken down by airline."
   ]
  },
  {
   "cell_type": "code",
   "execution_count": 22,
   "metadata": {},
   "outputs": [
    {
     "data": {
      "text/html": [
       "<div>\n",
       "<style scoped>\n",
       "    .dataframe tbody tr th:only-of-type {\n",
       "        vertical-align: middle;\n",
       "    }\n",
       "\n",
       "    .dataframe tbody tr th {\n",
       "        vertical-align: top;\n",
       "    }\n",
       "\n",
       "    .dataframe thead th {\n",
       "        text-align: right;\n",
       "    }\n",
       "</style>\n",
       "<table border=\"1\" class=\"dataframe\">\n",
       "  <thead>\n",
       "    <tr style=\"text-align: right;\">\n",
       "      <th></th>\n",
       "      <th>event</th>\n",
       "      <th>type_of_flight</th>\n",
       "      <th>airline</th>\n",
       "      <th>count</th>\n",
       "    </tr>\n",
       "  </thead>\n",
       "  <tbody>\n",
       "    <tr>\n",
       "      <td>14</td>\n",
       "      <td>on</td>\n",
       "      <td>local</td>\n",
       "      <td>SWA</td>\n",
       "      <td>47444</td>\n",
       "    </tr>\n",
       "    <tr>\n",
       "      <td>12</td>\n",
       "      <td>on</td>\n",
       "      <td>local</td>\n",
       "      <td>AAL</td>\n",
       "      <td>36200</td>\n",
       "    </tr>\n",
       "    <tr>\n",
       "      <td>13</td>\n",
       "      <td>on</td>\n",
       "      <td>local</td>\n",
       "      <td>DAL</td>\n",
       "      <td>35491</td>\n",
       "    </tr>\n",
       "    <tr>\n",
       "      <td>15</td>\n",
       "      <td>on</td>\n",
       "      <td>local</td>\n",
       "      <td>UAL</td>\n",
       "      <td>15992</td>\n",
       "    </tr>\n",
       "    <tr>\n",
       "      <td>8</td>\n",
       "      <td>on</td>\n",
       "      <td>international</td>\n",
       "      <td>AAL</td>\n",
       "      <td>2469</td>\n",
       "    </tr>\n",
       "    <tr>\n",
       "      <td>9</td>\n",
       "      <td>on</td>\n",
       "      <td>international</td>\n",
       "      <td>DAL</td>\n",
       "      <td>2018</td>\n",
       "    </tr>\n",
       "    <tr>\n",
       "      <td>11</td>\n",
       "      <td>on</td>\n",
       "      <td>international</td>\n",
       "      <td>UAL</td>\n",
       "      <td>1994</td>\n",
       "    </tr>\n",
       "    <tr>\n",
       "      <td>10</td>\n",
       "      <td>on</td>\n",
       "      <td>international</td>\n",
       "      <td>SWA</td>\n",
       "      <td>474</td>\n",
       "    </tr>\n",
       "    <tr>\n",
       "      <td>6</td>\n",
       "      <td>off</td>\n",
       "      <td>local</td>\n",
       "      <td>SWA</td>\n",
       "      <td>47236</td>\n",
       "    </tr>\n",
       "    <tr>\n",
       "      <td>4</td>\n",
       "      <td>off</td>\n",
       "      <td>local</td>\n",
       "      <td>AAL</td>\n",
       "      <td>36172</td>\n",
       "    </tr>\n",
       "    <tr>\n",
       "      <td>5</td>\n",
       "      <td>off</td>\n",
       "      <td>local</td>\n",
       "      <td>DAL</td>\n",
       "      <td>35392</td>\n",
       "    </tr>\n",
       "    <tr>\n",
       "      <td>7</td>\n",
       "      <td>off</td>\n",
       "      <td>local</td>\n",
       "      <td>UAL</td>\n",
       "      <td>16048</td>\n",
       "    </tr>\n",
       "    <tr>\n",
       "      <td>0</td>\n",
       "      <td>off</td>\n",
       "      <td>international</td>\n",
       "      <td>AAL</td>\n",
       "      <td>2500</td>\n",
       "    </tr>\n",
       "    <tr>\n",
       "      <td>1</td>\n",
       "      <td>off</td>\n",
       "      <td>international</td>\n",
       "      <td>DAL</td>\n",
       "      <td>2047</td>\n",
       "    </tr>\n",
       "    <tr>\n",
       "      <td>3</td>\n",
       "      <td>off</td>\n",
       "      <td>international</td>\n",
       "      <td>UAL</td>\n",
       "      <td>1997</td>\n",
       "    </tr>\n",
       "    <tr>\n",
       "      <td>2</td>\n",
       "      <td>off</td>\n",
       "      <td>international</td>\n",
       "      <td>SWA</td>\n",
       "      <td>477</td>\n",
       "    </tr>\n",
       "  </tbody>\n",
       "</table>\n",
       "</div>"
      ],
      "text/plain": [
       "   event type_of_flight airline  count\n",
       "14    on          local     SWA  47444\n",
       "12    on          local     AAL  36200\n",
       "13    on          local     DAL  35491\n",
       "15    on          local     UAL  15992\n",
       "8     on  international     AAL   2469\n",
       "9     on  international     DAL   2018\n",
       "11    on  international     UAL   1994\n",
       "10    on  international     SWA    474\n",
       "6    off          local     SWA  47236\n",
       "4    off          local     AAL  36172\n",
       "5    off          local     DAL  35392\n",
       "7    off          local     UAL  16048\n",
       "0    off  international     AAL   2500\n",
       "1    off  international     DAL   2047\n",
       "3    off  international     UAL   1997\n",
       "2    off  international     SWA    477"
      ]
     },
     "execution_count": 22,
     "metadata": {},
     "output_type": "execute_result"
    }
   ],
   "source": [
    "df.groupby(['event','type_of_flight','airline'])['airport'].count().reset_index(name = 'count').sort_values(['event','count','type_of_flight','airline'], ascending = False)\n"
   ]
  },
  {
   "cell_type": "code",
   "execution_count": 23,
   "metadata": {},
   "outputs": [
    {
     "data": {
      "text/plain": [
       "type_of_flight\n",
       "international     13976\n",
       "local            269975\n",
       "Name: airport, dtype: int64"
      ]
     },
     "execution_count": 23,
     "metadata": {},
     "output_type": "execute_result"
    }
   ],
   "source": [
    "df.groupby(['type_of_flight'])['airport'].count()"
   ]
  },
  {
   "cell_type": "markdown",
   "metadata": {},
   "source": [
    "So we found the busiest airports, but another piece of interesting information would be to find the most traveled flights both within the continental USA and outside of it. Let's see if we can find the most common local and international flights."
   ]
  },
  {
   "cell_type": "code",
   "execution_count": 24,
   "metadata": {},
   "outputs": [],
   "source": [
    "# Exercise Here\n",
    "# Local Flights\n",
    "\n",
    "# Interational Flights"
   ]
  },
  {
   "cell_type": "code",
   "execution_count": 25,
   "metadata": {},
   "outputs": [
    {
     "name": "stdout",
     "output_type": "stream",
     "text": [
      "     departure_airport destination_airport  count\n",
      "553               KDEN                KLAX    925\n",
      "1135              KLAX                KDEN    903\n",
      "636               KDFW                KLAX    851\n",
      "1136              KLAX                KDFW    849\n",
      "572               KDEN                KPHX    816\n",
      "    departure_airport destination_airport  count\n",
      "227              KLAX                PHNL    136\n",
      "436              PHNL                KLAX    135\n",
      "486              TJSJ                KMCO    127\n",
      "236              KMCO                TJSJ    125\n",
      "117              KDFW                MMUN    125\n"
     ]
    }
   ],
   "source": [
    "################\n",
    "### Solution ###\n",
    "################\n",
    "\n",
    "# Most common Destination Pairs within continental USA\n",
    "print(df[df['type_of_flight'] == 'local'].groupby(['departure_airport','destination_airport'])['airport'].count().reset_index(name = 'count').sort_values('count', ascending = False).head(5))\n",
    "\n",
    "# Most Common Destination Pair outside of the continental USA\n",
    "print(df[df['type_of_flight'] != 'local'].groupby(['departure_airport','destination_airport'])['airport'].count().reset_index(name = 'count').sort_values('count', ascending = False).head(5))"
   ]
  },
  {
   "cell_type": "markdown",
   "metadata": {},
   "source": [
    "Another aspect of the flight that might be interesting to look at is when the flights happen. So let's explore that angle of the data. \n",
    "\n",
    "### What day of month do flights usually happen?"
   ]
  },
  {
   "cell_type": "code",
   "execution_count": 26,
   "metadata": {},
   "outputs": [],
   "source": [
    "df['time'] = pd.to_datetime(df['time'])\n",
    "df['day_of_flight'] = df['time'].dt.date\n",
    "\n",
    "df_flight_time = df.groupby(['day_of_flight','type_of_flight'])['airport'].count().reset_index(name = 'count_of_flights')\n",
    "df_local = df_flight_time[df_flight_time['type_of_flight'] == 'local'][['day_of_flight','count_of_flights']]\n",
    "df_international = df_flight_time[df_flight_time['type_of_flight'] == 'international'][['day_of_flight','count_of_flights']]\n",
    "     "
   ]
  },
  {
   "cell_type": "code",
   "execution_count": 40,
   "metadata": {},
   "outputs": [
    {
     "name": "stderr",
     "output_type": "stream",
     "text": [
      "C:\\Users\\jpau\\AppData\\Local\\Continuum\\anaconda3\\lib\\site-packages\\pandas\\plotting\\_matplotlib\\converter.py:245: MatplotlibDeprecationWarning:\n",
      "\n",
      "\n",
      "The epoch2num function was deprecated in Matplotlib 3.3 and will be removed two minor releases later.\n",
      "\n"
     ]
    },
    {
     "data": {
      "image/png": "[encoded data removed]",
      "text/plain": [
       "<Figure size 432x288 with 1 Axes>"
      ]
     },
     "metadata": {
      "needs_background": "light"
     },
     "output_type": "display_data"
    }
   ],
   "source": [
    "\n",
    "plt.plot(df_local['day_of_flight'], df_local['count_of_flights'],  label = 'local')\n",
    "plt.legend()\n",
    "plt.xticks(rotation=90)\n",
    "plt.rcParams['date.epoch'] = '1970-01-01T00:00:00'\n",
    "plt.show()"
   ]
  },
  {
   "cell_type": "code",
   "execution_count": 39,
   "metadata": {},
   "outputs": [
    {
     "name": "stderr",
     "output_type": "stream",
     "text": [
      "C:\\Users\\jpau\\AppData\\Local\\Continuum\\anaconda3\\lib\\site-packages\\pandas\\plotting\\_matplotlib\\converter.py:245: MatplotlibDeprecationWarning:\n",
      "\n",
      "\n",
      "The epoch2num function was deprecated in Matplotlib 3.3 and will be removed two minor releases later.\n",
      "\n"
     ]
    },
    {
     "data": {
      "image/png": "[encoded data removed]",
      "text/plain": [
       "<Figure size 432x288 with 1 Axes>"
      ]
     },
     "metadata": {
      "needs_background": "light"
     },
     "output_type": "display_data"
    }
   ],
   "source": [
    "plt.plot(df_international['day_of_flight'], df_international['count_of_flights'],  label = 'international')\n",
    "plt.xticks(rotation=90)\n",
    "plt.legend()\n",
    "plt.show()"
   ]
  },
  {
   "cell_type": "markdown",
   "metadata": {},
   "source": [
    "So we see that in general there seems to be a similar number of flights per day, except for a drop in flights around 8/5/2020. That would be something interesting to investigate. \n",
    "\n",
    "Since both international flights and local flights occur over the same time period, let's see what happens when you plot them on the same graph. "
   ]
  },
  {
   "cell_type": "code",
   "execution_count": null,
   "metadata": {},
   "outputs": [],
   "source": [
    "# Exercise Here"
   ]
  },
  {
   "cell_type": "code",
   "execution_count": 163,
   "metadata": {},
   "outputs": [
    {
     "name": "stderr",
     "output_type": "stream",
     "text": [
      "C:\\Users\\jpau\\AppData\\Local\\Continuum\\anaconda3\\lib\\site-packages\\pandas\\plotting\\_matplotlib\\converter.py:245: MatplotlibDeprecationWarning:\n",
      "\n",
      "\n",
      "The epoch2num function was deprecated in Matplotlib 3.3 and will be removed two minor releases later.\n",
      "\n",
      "C:\\Users\\jpau\\AppData\\Local\\Continuum\\anaconda3\\lib\\site-packages\\pandas\\plotting\\_matplotlib\\converter.py:245: MatplotlibDeprecationWarning:\n",
      "\n",
      "\n",
      "The epoch2num function was deprecated in Matplotlib 3.3 and will be removed two minor releases later.\n",
      "\n"
     ]
    },
    {
     "data": {
      "image/png": "[encoded data removed]",
      "text/plain": [
       "<Figure size 432x288 with 1 Axes>"
      ]
     },
     "metadata": {
      "needs_background": "light"
     },
     "output_type": "display_data"
    }
   ],
   "source": [
    "################\n",
    "### Solution ###\n",
    "################\n",
    "\n",
    "plt.plot(df_local['day_of_flight'], df_local['count_of_flights'],  label = 'local')\n",
    "plt.plot(df_international['day_of_flight'], df_international['count_of_flights'],  label = 'international')\n",
    "plt.legend()\n",
    "plt.xticks(rotation=90)\n",
    "plt.show()"
   ]
  },
  {
   "cell_type": "markdown",
   "metadata": {},
   "source": [
    "This combined graph is actually not as useful as the individual graphs. One thing to note is that when plotting the two different lines on the graph, the graph can yield very little information due to the difference in scale. In this case, we see that much of the noise from the international flights is obscured by the much higher volume of local flights. So what might be a better way to plot these two lines? \n",
    "\n",
    "One possible solution would to look at the proportions of flights by day. Let's represent this using a bar chart instead of a line graph. "
   ]
  },
  {
   "cell_type": "raw",
   "metadata": {},
   "source": [
    "######################\n",
    "Things to possible add\n",
    "######################\n",
    "\n",
    "- Drill down on day of the week\n",
    "- which airports are weekend travel vs weekday\n",
    "- Add more data --> see changes over COVID\n",
    "\n",
    "- something more advanced to inspire them, see them why using\n",
    "    - maybe using plotly, seaborn\n",
    "    \n",
    "- adding stand alone exercises to just practice these basic things \n",
    "    - show the application, show the skills, practice, apply, \n",
    "    "
   ]
  },
  {
   "cell_type": "code",
   "execution_count": 141,
   "metadata": {},
   "outputs": [
    {
     "data": {
      "image/png": "[encoded data removed]",
      "text/plain": [
       "<Figure size 432x288 with 1 Axes>"
      ]
     },
     "metadata": {
      "needs_background": "light"
     },
     "output_type": "display_data"
    }
   ],
   "source": [
    "plt.hist(pd.to_datetime(df[df['type_of_flight'] == 'local']['time']).dt.day, label = 'local', weights=np.ones(len(df[df['type_of_flight'] == 'local']['time'])) / len(df[df['type_of_flight'] == 'local']['time']), alpha = .5, bins = 31)\n",
    "plt.hist(pd.to_datetime(df[df['type_of_flight'] == 'international']['time']).dt.day, weights = np.ones(len(df[df['type_of_flight'] == 'international']['time'])) / len(df[df['type_of_flight'] == 'international']['time']), label = 'international', alpha = .5, bins = 31)\n",
    "plt.legend()\n",
    "plt.show()"
   ]
  },
  {
   "cell_type": "markdown",
   "metadata": {},
   "source": [
    "In this chart, we see that the same information in the previous graphs presented differently. Instead of the absolute number of flights, we understand the proportion of flights as the month goes on. One thing that we notice is that international flights tend to fly much more often on the weekends than on the weekdays where as local flights tend to be more consistent throughout the month. "
   ]
  },
  {
   "cell_type": "markdown",
   "metadata": {},
   "source": [
    "### What about time of day?"
   ]
  },
  {
   "cell_type": "markdown",
   "metadata": {},
   "source": [
    "Now that we have looked at how to look at flight by times during the month. How would we do this for the time of flights during the day? And what conclusion can we draw from the data?"
   ]
  },
  {
   "cell_type": "code",
   "execution_count": null,
   "metadata": {},
   "outputs": [],
   "source": [
    "# Exercise Here"
   ]
  },
  {
   "cell_type": "code",
   "execution_count": 52,
   "metadata": {
    "scrolled": true
   },
   "outputs": [
    {
     "data": {
      "image/png": "[encoded data removed]",
      "text/plain": [
       "<Figure size 432x288 with 1 Axes>"
      ]
     },
     "metadata": {
      "needs_background": "light"
     },
     "output_type": "display_data"
    }
   ],
   "source": [
    "################\n",
    "### Solution ###\n",
    "################\n",
    "\n",
    "plt.hist(pd.to_datetime(df[df['type_of_flight'] == 'local']['time']).dt.hour, label = 'local', weights=np.ones(len(df[df['type_of_flight'] == 'local']['time'])) / len(df[df['type_of_flight'] == 'local']['time']), alpha = .5, bins = 24)\n",
    "plt.hist(pd.to_datetime(df[df['type_of_flight'] == 'international']['time']).dt.hour, weights = np.ones(len(df[df['type_of_flight'] == 'international']['time'])) / len(df[df['type_of_flight'] == 'international']['time']), label = 'international', alpha = .5, bins = 24)\n",
    "plt.legend()\n",
    "plt.show()"
   ]
  },
  {
   "cell_type": "raw",
   "metadata": {},
   "source": [
    "################\n",
    "### Solution ###\n",
    "################ \n",
    "\n",
    "As we look at the time of day, we see that very few flights happen at certain hours. This makes sense when adjusted for timezone, this turns out to be the 1am - 5am time slot. One interesting thing to note is that for international flights, they tend to fly early morning or evening, but there is a lull in the afternoon.  "
   ]
  },
  {
   "cell_type": "markdown",
   "metadata": {},
   "source": [
    "### Which airline is the best to fly on if you want a quick flight?"
   ]
  },
  {
   "cell_type": "markdown",
   "metadata": {},
   "source": [
    "First, we need to match up the events to show only the flights with a complete flight record. Then we need to find the flight duration. Finally, we will be able to see which airline is the most consistently the fasted.  "
   ]
  },
  {
   "cell_type": "code",
   "execution_count": 45,
   "metadata": {},
   "outputs": [],
   "source": [
    "# Sorting by Time so that we can match the flight records\n",
    "df_flights = df.sort_values(['call_sign','time'])\n",
    "\n",
    "# Creating additional columns to match flight records\n",
    "df_flights['call_sign_shift'] = df_flights['call_sign'].shift(1)\n",
    "df_flights['event_shift'] = df_flights['event'].shift(1)\n",
    "df_flights['airport_shift'] = df_flights['airport'].shift(1)\n",
    "df_flights['time_shift'] = df_flights['time'].shift(1)\n",
    "\n",
    "# Filtering out all takeoffs so that we have a single record for each flight record\n",
    "df_flights_2 = df_flights[(df_flights['event'] == 'on')].copy()\n",
    "df_flights_3 = df_flights_2.loc[(df_flights_2['event'] != df_flights_2['event_shift']) & \n",
    "                                (df_flights_2['call_sign'] == df_flights_2['call_sign_shift']) & \n",
    "                                (df_flights_2['airport_shift'] == df_flights_2['departure_airport'])]\n"
   ]
  },
  {
   "cell_type": "code",
   "execution_count": 46,
   "metadata": {},
   "outputs": [],
   "source": [
    "df_flights_3.loc[:, 'length_of_trip'] = (df_flights_3['time'].sub(df_flights_3['time_shift'])) / np.timedelta64(1, 'm')\n",
    "\n",
    "# Dropping all unnecessary columns \n",
    "df_flights_3 = df_flights_3.drop(columns = ['call_sign_shift','event_shift','airport_shift','time_shift'])"
   ]
  },
  {
   "cell_type": "markdown",
   "metadata": {},
   "source": [
    "Let's see the distribution of flight times for the different airlines to make a quick check that everything is done right. We can do this through a plot called a boxplot also sometimes known as a box and whisker plot. Basically, this plot visualizes a 5 number summary of the data. It shows the \"minimum\" (the first quartile minus 1.5 times the range between the first and third quartiles), first quartile (if you split the into 4 sections and ordered them and picked the boundary of the first and second ones), median, third quartile, and \"maximum\". These kinds of plots are good for understanding the distributino of number as well as identifying outliers in our data. "
   ]
  },
  {
   "cell_type": "code",
   "execution_count": 28,
   "metadata": {
    "scrolled": false
   },
   "outputs": [
    {
     "data": {
      "image/png": "[encoded data removed]",
      "text/plain": [
       "<Figure size 432x288 with 1 Axes>"
      ]
     },
     "metadata": {
      "needs_background": "light"
     },
     "output_type": "display_data"
    }
   ],
   "source": [
    "airline_aal = df_flights_3[df_flights_3['airline'] == 'AAL']['length_of_trip']\n",
    "airline_dal = df_flights_3[df_flights_3['airline'] == 'DAL']['length_of_trip']\n",
    "airline_swa = df_flights_3[df_flights_3['airline'] == 'SWA']['length_of_trip']\n",
    "airline_ual = df_flights_3[df_flights_3['airline'] == 'UAL']['length_of_trip']\n",
    "\n",
    "airline_boxplot = [airline_aal, airline_dal, airline_swa, airline_ual]\n",
    "plt.boxplot(airline_boxplot, labels = ['American','Delta','Southwest','United']);"
   ]
  },
  {
   "cell_type": "markdown",
   "metadata": {},
   "source": [
    "So we see something really interesting here. We see that there are a few flights that are taking significantly longer than supposed to. We know that the length_of_trip column is in minutes. So for a flight to take more than 1000 minutes which is more than 16 hours is highly unlikely. For some perspective, a flight from Seattle, WA to Miami, Fl takes about 6 hours which translates to 360 minutes. This clearly means something funky is going on in the data so let's look into it. "
   ]
  },
  {
   "cell_type": "code",
   "execution_count": 29,
   "metadata": {
    "scrolled": true
   },
   "outputs": [
    {
     "data": {
      "text/html": [
       "<div>\n",
       "<style scoped>\n",
       "    .dataframe tbody tr th:only-of-type {\n",
       "        vertical-align: middle;\n",
       "    }\n",
       "\n",
       "    .dataframe tbody tr th {\n",
       "        vertical-align: top;\n",
       "    }\n",
       "\n",
       "    .dataframe thead th {\n",
       "        text-align: right;\n",
       "    }\n",
       "</style>\n",
       "<table border=\"1\" class=\"dataframe\">\n",
       "  <thead>\n",
       "    <tr style=\"text-align: right;\">\n",
       "      <th></th>\n",
       "      <th>Unnamed: 0</th>\n",
       "      <th>airport</th>\n",
       "      <th>track</th>\n",
       "      <th>stid</th>\n",
       "      <th>call_sign</th>\n",
       "      <th>time</th>\n",
       "      <th>event</th>\n",
       "      <th>status</th>\n",
       "      <th>departure_airport</th>\n",
       "      <th>destination_airport</th>\n",
       "      <th>timestamp</th>\n",
       "      <th>type_of_flight</th>\n",
       "      <th>airline</th>\n",
       "      <th>length_of_trip</th>\n",
       "    </tr>\n",
       "  </thead>\n",
       "  <tbody>\n",
       "    <tr>\n",
       "      <td>54316</td>\n",
       "      <td>54316</td>\n",
       "      <td>KPHX</td>\n",
       "      <td>2754</td>\n",
       "      <td>11701827</td>\n",
       "      <td>AAL1057</td>\n",
       "      <td>2020-08-06 23:11:09</td>\n",
       "      <td>on</td>\n",
       "      <td>onsurface</td>\n",
       "      <td>KBOS</td>\n",
       "      <td>KPHX</td>\n",
       "      <td>2020-08-06 23:00:00</td>\n",
       "      <td>local</td>\n",
       "      <td>AAL</td>\n",
       "      <td>1744.550000</td>\n",
       "    </tr>\n",
       "    <tr>\n",
       "      <td>53667</td>\n",
       "      <td>53667</td>\n",
       "      <td>KDFW</td>\n",
       "      <td>3899</td>\n",
       "      <td>2185669</td>\n",
       "      <td>AAL1094</td>\n",
       "      <td>2020-08-06 22:17:22</td>\n",
       "      <td>on</td>\n",
       "      <td>onsurface</td>\n",
       "      <td>KBOS</td>\n",
       "      <td>KDFW</td>\n",
       "      <td>2020-08-06 22:00:00</td>\n",
       "      <td>local</td>\n",
       "      <td>AAL</td>\n",
       "      <td>1641.566667</td>\n",
       "    </tr>\n",
       "    <tr>\n",
       "      <td>53103</td>\n",
       "      <td>53103</td>\n",
       "      <td>KDCA</td>\n",
       "      <td>578</td>\n",
       "      <td>2716436</td>\n",
       "      <td>AAL2146</td>\n",
       "      <td>2020-08-06 21:27:49</td>\n",
       "      <td>on</td>\n",
       "      <td>onsurface</td>\n",
       "      <td>KBOS</td>\n",
       "      <td>KDCA</td>\n",
       "      <td>2020-08-06 21:00:00</td>\n",
       "      <td>local</td>\n",
       "      <td>AAL</td>\n",
       "      <td>1520.700000</td>\n",
       "    </tr>\n",
       "    <tr>\n",
       "      <td>46626</td>\n",
       "      <td>46626</td>\n",
       "      <td>KLAX</td>\n",
       "      <td>558</td>\n",
       "      <td>11592710</td>\n",
       "      <td>AAL2289</td>\n",
       "      <td>2020-08-06 06:46:33</td>\n",
       "      <td>on</td>\n",
       "      <td>onsurface</td>\n",
       "      <td>KMIA</td>\n",
       "      <td>KLAX</td>\n",
       "      <td>2020-08-06 07:00:00</td>\n",
       "      <td>local</td>\n",
       "      <td>AAL</td>\n",
       "      <td>1733.033333</td>\n",
       "    </tr>\n",
       "    <tr>\n",
       "      <td>55149</td>\n",
       "      <td>55149</td>\n",
       "      <td>KLGA</td>\n",
       "      <td>2827</td>\n",
       "      <td>1327386</td>\n",
       "      <td>AAL2716</td>\n",
       "      <td>2020-08-07 00:24:08</td>\n",
       "      <td>on</td>\n",
       "      <td>onsurface</td>\n",
       "      <td>KDFW</td>\n",
       "      <td>KLGA</td>\n",
       "      <td>2020-08-07 00:00:00</td>\n",
       "      <td>local</td>\n",
       "      <td>AAL</td>\n",
       "      <td>1670.900000</td>\n",
       "    </tr>\n",
       "  </tbody>\n",
       "</table>\n",
       "</div>"
      ],
      "text/plain": [
       "       Unnamed: 0 airport  track      stid call_sign                time  \\\n",
       "54316       54316    KPHX   2754  11701827   AAL1057 2020-08-06 23:11:09   \n",
       "53667       53667    KDFW   3899   2185669   AAL1094 2020-08-06 22:17:22   \n",
       "53103       53103    KDCA    578   2716436   AAL2146 2020-08-06 21:27:49   \n",
       "46626       46626    KLAX    558  11592710   AAL2289 2020-08-06 06:46:33   \n",
       "55149       55149    KLGA   2827   1327386   AAL2716 2020-08-07 00:24:08   \n",
       "\n",
       "      event     status departure_airport destination_airport  \\\n",
       "54316    on  onsurface              KBOS                KPHX   \n",
       "53667    on  onsurface              KBOS                KDFW   \n",
       "53103    on  onsurface              KBOS                KDCA   \n",
       "46626    on  onsurface              KMIA                KLAX   \n",
       "55149    on  onsurface              KDFW                KLGA   \n",
       "\n",
       "                 timestamp type_of_flight airline  length_of_trip  \n",
       "54316  2020-08-06 23:00:00          local     AAL     1744.550000  \n",
       "53667  2020-08-06 22:00:00          local     AAL     1641.566667  \n",
       "53103  2020-08-06 21:00:00          local     AAL     1520.700000  \n",
       "46626  2020-08-06 07:00:00          local     AAL     1733.033333  \n",
       "55149  2020-08-07 00:00:00          local     AAL     1670.900000  "
      ]
     },
     "execution_count": 29,
     "metadata": {},
     "output_type": "execute_result"
    }
   ],
   "source": [
    "df_flights_3[df_flights_3['length_of_trip'] > 1000].head()"
   ]
  },
  {
   "cell_type": "markdown",
   "metadata": {},
   "source": [
    "Taking a sample of the data, makes it clear that these flights are not possible. One possibility of this would be that the other half of the flight was not recorded. Let us go and check in the data before removing them."
   ]
  },
  {
   "cell_type": "code",
   "execution_count": 30,
   "metadata": {},
   "outputs": [],
   "source": [
    "# look at original data"
   ]
  },
  {
   "cell_type": "markdown",
   "metadata": {},
   "source": [
    "Yep, it seems like for some of these flights. There are parts of the trip that are not recorded. Let us remove these flights then and move on to finding the average flight time for the various destination/departure pairs. Let's also identify the "
   ]
  },
  {
   "cell_type": "code",
   "execution_count": 31,
   "metadata": {},
   "outputs": [],
   "source": [
    "df_flights_4 = df_flights_3[df_flights_3['length_of_trip'] < 1000].merge(df_flights_3[df_flights_3['length_of_trip'] < 1000].groupby(['destination_airport','departure_airport'])['length_of_trip'].mean().reset_index(name = 'avg_flight_length'), on= ['destination_airport','departure_airport'])\n",
    "df_flights_4['adjusted_to_avg'] = df_flights_4['length_of_trip'] - df_flights_4['avg_flight_length']"
   ]
  },
  {
   "cell_type": "code",
   "execution_count": 32,
   "metadata": {},
   "outputs": [
    {
     "data": {
      "image/png": "[encoded data removed]",
      "text/plain": [
       "<Figure size 432x288 with 1 Axes>"
      ]
     },
     "metadata": {
      "needs_background": "light"
     },
     "output_type": "display_data"
    }
   ],
   "source": [
    "airline_aal = df_flights_4[df_flights_4['airline'] == 'AAL']['adjusted_to_avg']\n",
    "airline_dal = df_flights_4[df_flights_4['airline'] == 'DAL']['adjusted_to_avg']\n",
    "airline_swa = df_flights_4[df_flights_4['airline'] == 'SWA']['adjusted_to_avg']\n",
    "airline_ual = df_flights_4[df_flights_4['airline'] == 'UAL']['adjusted_to_avg']\n",
    "\n",
    "airline_boxplot = [airline_aal, airline_dal, airline_swa, airline_ual]\n",
    "plt.boxplot(airline_boxplot, labels = ['American','Delta','Southwest','United']);"
   ]
  },
  {
   "cell_type": "markdown",
   "metadata": {},
   "source": [
    "Looking at the box plot of the how flights compared to the average flight time. We against see bigger than expected outliers that we would want to explore. "
   ]
  },
  {
   "cell_type": "code",
   "execution_count": 33,
   "metadata": {},
   "outputs": [
    {
     "data": {
      "text/html": [
       "<div>\n",
       "<style scoped>\n",
       "    .dataframe tbody tr th:only-of-type {\n",
       "        vertical-align: middle;\n",
       "    }\n",
       "\n",
       "    .dataframe tbody tr th {\n",
       "        vertical-align: top;\n",
       "    }\n",
       "\n",
       "    .dataframe thead th {\n",
       "        text-align: right;\n",
       "    }\n",
       "</style>\n",
       "<table border=\"1\" class=\"dataframe\">\n",
       "  <thead>\n",
       "    <tr style=\"text-align: right;\">\n",
       "      <th></th>\n",
       "      <th>Unnamed: 0</th>\n",
       "      <th>airport</th>\n",
       "      <th>track</th>\n",
       "      <th>stid</th>\n",
       "      <th>call_sign</th>\n",
       "      <th>time</th>\n",
       "      <th>event</th>\n",
       "      <th>status</th>\n",
       "      <th>departure_airport</th>\n",
       "      <th>destination_airport</th>\n",
       "      <th>timestamp</th>\n",
       "      <th>type_of_flight</th>\n",
       "      <th>airline</th>\n",
       "      <th>length_of_trip</th>\n",
       "      <th>avg_flight_length</th>\n",
       "      <th>adjusted_to_avg</th>\n",
       "    </tr>\n",
       "  </thead>\n",
       "  <tbody>\n",
       "    <tr>\n",
       "      <td>54567</td>\n",
       "      <td>27390</td>\n",
       "      <td>KATL</td>\n",
       "      <td>2690</td>\n",
       "      <td>8959935</td>\n",
       "      <td>UAL307</td>\n",
       "      <td>2020-08-03 21:02:48</td>\n",
       "      <td>on</td>\n",
       "      <td>onsurface</td>\n",
       "      <td>KDEN</td>\n",
       "      <td>KATL</td>\n",
       "      <td>2020-08-03 21:00:00</td>\n",
       "      <td>local</td>\n",
       "      <td>UAL</td>\n",
       "      <td>307.266667</td>\n",
       "      <td>147.500177</td>\n",
       "      <td>159.766490</td>\n",
       "    </tr>\n",
       "    <tr>\n",
       "      <td>57244</td>\n",
       "      <td>257899</td>\n",
       "      <td>KDEN</td>\n",
       "      <td>143</td>\n",
       "      <td>4559905</td>\n",
       "      <td>UAL2493</td>\n",
       "      <td>2020-08-27 00:20:23</td>\n",
       "      <td>on</td>\n",
       "      <td>onsurface</td>\n",
       "      <td>KSEA</td>\n",
       "      <td>KDEN</td>\n",
       "      <td>2020-08-27 00:00:00</td>\n",
       "      <td>local</td>\n",
       "      <td>UAL</td>\n",
       "      <td>239.616667</td>\n",
       "      <td>128.517919</td>\n",
       "      <td>111.098747</td>\n",
       "    </tr>\n",
       "  </tbody>\n",
       "</table>\n",
       "</div>"
      ],
      "text/plain": [
       "       Unnamed: 0 airport  track     stid call_sign                time event  \\\n",
       "54567       27390    KATL   2690  8959935    UAL307 2020-08-03 21:02:48    on   \n",
       "57244      257899    KDEN    143  4559905   UAL2493 2020-08-27 00:20:23    on   \n",
       "\n",
       "          status departure_airport destination_airport            timestamp  \\\n",
       "54567  onsurface              KDEN                KATL  2020-08-03 21:00:00   \n",
       "57244  onsurface              KSEA                KDEN  2020-08-27 00:00:00   \n",
       "\n",
       "      type_of_flight airline  length_of_trip  avg_flight_length  \\\n",
       "54567          local     UAL      307.266667         147.500177   \n",
       "57244          local     UAL      239.616667         128.517919   \n",
       "\n",
       "       adjusted_to_avg  \n",
       "54567       159.766490  \n",
       "57244       111.098747  "
      ]
     },
     "execution_count": 33,
     "metadata": {},
     "output_type": "execute_result"
    }
   ],
   "source": [
    "df_flights_4[(df_flights_4['airline'] == 'UAL') & (df_flights_4['adjusted_to_avg'] > 100)]"
   ]
  },
  {
   "cell_type": "code",
   "execution_count": 34,
   "metadata": {},
   "outputs": [
    {
     "data": {
      "text/html": [
       "<div>\n",
       "<style scoped>\n",
       "    .dataframe tbody tr th:only-of-type {\n",
       "        vertical-align: middle;\n",
       "    }\n",
       "\n",
       "    .dataframe tbody tr th {\n",
       "        vertical-align: top;\n",
       "    }\n",
       "\n",
       "    .dataframe thead th {\n",
       "        text-align: right;\n",
       "    }\n",
       "</style>\n",
       "<table border=\"1\" class=\"dataframe\">\n",
       "  <thead>\n",
       "    <tr style=\"text-align: right;\">\n",
       "      <th></th>\n",
       "      <th>Unnamed: 0</th>\n",
       "      <th>airport</th>\n",
       "      <th>track</th>\n",
       "      <th>stid</th>\n",
       "      <th>call_sign</th>\n",
       "      <th>time</th>\n",
       "      <th>event</th>\n",
       "      <th>status</th>\n",
       "      <th>departure_airport</th>\n",
       "      <th>destination_airport</th>\n",
       "      <th>timestamp</th>\n",
       "      <th>type_of_flight</th>\n",
       "      <th>airline</th>\n",
       "    </tr>\n",
       "  </thead>\n",
       "  <tbody>\n",
       "    <tr>\n",
       "      <td>23857</td>\n",
       "      <td>23857</td>\n",
       "      <td>KDEN</td>\n",
       "      <td>3939</td>\n",
       "      <td>4037660</td>\n",
       "      <td>UAL307</td>\n",
       "      <td>2020-08-03 15:55:32</td>\n",
       "      <td>off</td>\n",
       "      <td>airborne</td>\n",
       "      <td>KDEN</td>\n",
       "      <td>KATL</td>\n",
       "      <td>2020-08-03 16:00:00</td>\n",
       "      <td>local</td>\n",
       "      <td>UAL</td>\n",
       "    </tr>\n",
       "    <tr>\n",
       "      <td>27390</td>\n",
       "      <td>27390</td>\n",
       "      <td>KATL</td>\n",
       "      <td>2690</td>\n",
       "      <td>8959935</td>\n",
       "      <td>UAL307</td>\n",
       "      <td>2020-08-03 21:02:48</td>\n",
       "      <td>on</td>\n",
       "      <td>onsurface</td>\n",
       "      <td>KDEN</td>\n",
       "      <td>KATL</td>\n",
       "      <td>2020-08-03 21:00:00</td>\n",
       "      <td>local</td>\n",
       "      <td>UAL</td>\n",
       "    </tr>\n",
       "  </tbody>\n",
       "</table>\n",
       "</div>"
      ],
      "text/plain": [
       "       Unnamed: 0 airport  track     stid call_sign                time event  \\\n",
       "23857       23857    KDEN   3939  4037660    UAL307 2020-08-03 15:55:32   off   \n",
       "27390       27390    KATL   2690  8959935    UAL307 2020-08-03 21:02:48    on   \n",
       "\n",
       "          status departure_airport destination_airport            timestamp  \\\n",
       "23857   airborne              KDEN                KATL  2020-08-03 16:00:00   \n",
       "27390  onsurface              KDEN                KATL  2020-08-03 21:00:00   \n",
       "\n",
       "      type_of_flight airline  \n",
       "23857          local     UAL  \n",
       "27390          local     UAL  "
      ]
     },
     "execution_count": 34,
     "metadata": {},
     "output_type": "execute_result"
    }
   ],
   "source": [
    "df[(df['time'] < '08-04-2020') & (df['time'] > '08-03-2020') & (df['departure_airport'] == 'KDEN') & (df['destination_airport'] == 'KATL') & (df['call_sign'] == 'UAL307')].sort_values(['call_sign','time'])"
   ]
  },
  {
   "cell_type": "markdown",
   "metadata": {},
   "source": [
    "Looking at one of the examples, it looks like the there doesn't seem to be anything wrong with the data. This indicates that this flight must have been just taken a much longer time. Maybe, delayed by something that happend at the destination airport. Now that we confirmed that the data makes sense. \n",
    "\n",
    "Let us return our original question, which airline is the best to fly on. Now, the best can refer to many things, two typical measurements that people use the word best might be either quickness or reliability. Let us look at both. "
   ]
  },
  {
   "cell_type": "code",
   "execution_count": 35,
   "metadata": {},
   "outputs": [],
   "source": [
    "df_quickness = df_flights_4.groupby('airline')['adjusted_to_avg'].mean().reset_index(name = 'avg_time')\n",
    "df_reliable = df_flights_4.groupby('airline')['adjusted_to_avg'].std().reset_index(name = 'std_time')\n",
    "\n",
    "df_best = df_quickness.merge(df_reliable, on = 'airline')"
   ]
  },
  {
   "cell_type": "code",
   "execution_count": 36,
   "metadata": {},
   "outputs": [
    {
     "data": {
      "text/html": [
       "<div>\n",
       "<style scoped>\n",
       "    .dataframe tbody tr th:only-of-type {\n",
       "        vertical-align: middle;\n",
       "    }\n",
       "\n",
       "    .dataframe tbody tr th {\n",
       "        vertical-align: top;\n",
       "    }\n",
       "\n",
       "    .dataframe thead th {\n",
       "        text-align: right;\n",
       "    }\n",
       "</style>\n",
       "<table border=\"1\" class=\"dataframe\">\n",
       "  <thead>\n",
       "    <tr style=\"text-align: right;\">\n",
       "      <th></th>\n",
       "      <th>airline</th>\n",
       "      <th>avg_time</th>\n",
       "      <th>std_time</th>\n",
       "    </tr>\n",
       "  </thead>\n",
       "  <tbody>\n",
       "    <tr>\n",
       "      <td>0</td>\n",
       "      <td>AAL</td>\n",
       "      <td>0.190901</td>\n",
       "      <td>7.708061</td>\n",
       "    </tr>\n",
       "    <tr>\n",
       "      <td>1</td>\n",
       "      <td>DAL</td>\n",
       "      <td>-0.273114</td>\n",
       "      <td>6.657581</td>\n",
       "    </tr>\n",
       "    <tr>\n",
       "      <td>2</td>\n",
       "      <td>SWA</td>\n",
       "      <td>0.123937</td>\n",
       "      <td>6.378916</td>\n",
       "    </tr>\n",
       "    <tr>\n",
       "      <td>3</td>\n",
       "      <td>UAL</td>\n",
       "      <td>-0.118090</td>\n",
       "      <td>8.496612</td>\n",
       "    </tr>\n",
       "  </tbody>\n",
       "</table>\n",
       "</div>"
      ],
      "text/plain": [
       "  airline  avg_time  std_time\n",
       "0     AAL  0.190901  7.708061\n",
       "1     DAL -0.273114  6.657581\n",
       "2     SWA  0.123937  6.378916\n",
       "3     UAL -0.118090  8.496612"
      ]
     },
     "execution_count": 36,
     "metadata": {},
     "output_type": "execute_result"
    }
   ],
   "source": [
    "df_best"
   ]
  },
  {
   "cell_type": "markdown",
   "metadata": {},
   "source": [
    "As we can see, generally, Delta seems to perform above the average flight time it takes to fly a certain route, while Southwest seems ot have the least amount of variablity when it comes to the routes that it flies. There you go, the best airlines according to our data!"
   ]
  },
  {
   "cell_type": "markdown",
   "metadata": {},
   "source": [
    "# Merging Data - IP"
   ]
  },
  {
   "cell_type": "markdown",
   "metadata": {},
   "source": [
    "We also have another set of data that can be merged with our existing set that might make exploring this data much more interesting. It is the latitude, longtitude and altitudes of the airports! So let's see if there are any gems when we include this dataset. "
   ]
  },
  {
   "cell_type": "code",
   "execution_count": 40,
   "metadata": {},
   "outputs": [],
   "source": [
    "# Change path name to '/home/jovyan/data/flight_data.csv' when online\n",
    "df_airport_desc = pd.read_csv(r'C:\\Users\\jpau\\Documents\\Projects\\Airforce\\data\\airport_data.csv')"
   ]
  },
  {
   "cell_type": "code",
   "execution_count": 41,
   "metadata": {
    "scrolled": true
   },
   "outputs": [
    {
     "data": {
      "text/html": [
       "<div>\n",
       "<style scoped>\n",
       "    .dataframe tbody tr th:only-of-type {\n",
       "        vertical-align: middle;\n",
       "    }\n",
       "\n",
       "    .dataframe tbody tr th {\n",
       "        vertical-align: top;\n",
       "    }\n",
       "\n",
       "    .dataframe thead th {\n",
       "        text-align: right;\n",
       "    }\n",
       "</style>\n",
       "<table border=\"1\" class=\"dataframe\">\n",
       "  <thead>\n",
       "    <tr style=\"text-align: right;\">\n",
       "      <th></th>\n",
       "      <th>airport</th>\n",
       "      <th>latitude</th>\n",
       "      <th>longitude</th>\n",
       "      <th>altitude</th>\n",
       "    </tr>\n",
       "  </thead>\n",
       "  <tbody>\n",
       "    <tr>\n",
       "      <td>0</td>\n",
       "      <td>KIAH</td>\n",
       "      <td>29.97775</td>\n",
       "      <td>-95.29970</td>\n",
       "      <td>150.00</td>\n",
       "    </tr>\n",
       "    <tr>\n",
       "      <td>1</td>\n",
       "      <td>KSEA</td>\n",
       "      <td>47.46886</td>\n",
       "      <td>-122.31785</td>\n",
       "      <td>512.50</td>\n",
       "    </tr>\n",
       "    <tr>\n",
       "      <td>2</td>\n",
       "      <td>KATL</td>\n",
       "      <td>33.64950</td>\n",
       "      <td>-84.40834</td>\n",
       "      <td>1100.00</td>\n",
       "    </tr>\n",
       "    <tr>\n",
       "      <td>3</td>\n",
       "      <td>KHOU</td>\n",
       "      <td>29.65113</td>\n",
       "      <td>-95.28578</td>\n",
       "      <td>93.75</td>\n",
       "    </tr>\n",
       "    <tr>\n",
       "      <td>4</td>\n",
       "      <td>KDEN</td>\n",
       "      <td>39.83214</td>\n",
       "      <td>-104.64171</td>\n",
       "      <td>5450.00</td>\n",
       "    </tr>\n",
       "  </tbody>\n",
       "</table>\n",
       "</div>"
      ],
      "text/plain": [
       "  airport  latitude  longitude  altitude\n",
       "0    KIAH  29.97775  -95.29970    150.00\n",
       "1    KSEA  47.46886 -122.31785    512.50\n",
       "2    KATL  33.64950  -84.40834   1100.00\n",
       "3    KHOU  29.65113  -95.28578     93.75\n",
       "4    KDEN  39.83214 -104.64171   5450.00"
      ]
     },
     "execution_count": 41,
     "metadata": {},
     "output_type": "execute_result"
    }
   ],
   "source": [
    "df_airport_desc.head()"
   ]
  },
  {
   "cell_type": "code",
   "execution_count": 47,
   "metadata": {},
   "outputs": [
    {
     "ename": "KeyError",
     "evalue": "\"['latitude', 'longitude'] not in index\"",
     "output_type": "error",
     "traceback": [
      "\u001b[1;31m---------------------------------------------------------------------------\u001b[0m",
      "\u001b[1;31mKeyError\u001b[0m                                  Traceback (most recent call last)",
      "\u001b[1;32m<ipython-input-47-86dcaeb8f1f4>\u001b[0m in \u001b[0;36m<module>\u001b[1;34m\u001b[0m\n\u001b[0;32m      1\u001b[0m \u001b[1;31m# Thrown on a map\u001b[0m\u001b[1;33m\u001b[0m\u001b[1;33m\u001b[0m\u001b[1;33m\u001b[0m\u001b[0m\n\u001b[1;32m----> 2\u001b[1;33m \u001b[0mdf_map\u001b[0m \u001b[1;33m=\u001b[0m \u001b[0mdf\u001b[0m\u001b[1;33m[\u001b[0m\u001b[1;33m[\u001b[0m\u001b[1;34m'airport'\u001b[0m\u001b[1;33m,\u001b[0m\u001b[1;34m'latitude'\u001b[0m\u001b[1;33m,\u001b[0m\u001b[1;34m'longitude'\u001b[0m\u001b[1;33m]\u001b[0m\u001b[1;33m]\u001b[0m\u001b[1;33m.\u001b[0m\u001b[0mgroupby\u001b[0m\u001b[1;33m(\u001b[0m\u001b[1;34m'airport'\u001b[0m\u001b[1;33m)\u001b[0m\u001b[1;33m.\u001b[0m\u001b[0mmean\u001b[0m\u001b[1;33m(\u001b[0m\u001b[1;33m)\u001b[0m\u001b[1;33m.\u001b[0m\u001b[0mmerge\u001b[0m\u001b[1;33m(\u001b[0m\u001b[0mdf\u001b[0m\u001b[1;33m.\u001b[0m\u001b[0mgroupby\u001b[0m\u001b[1;33m(\u001b[0m\u001b[1;33m[\u001b[0m\u001b[1;34m'airport'\u001b[0m\u001b[1;33m]\u001b[0m\u001b[1;33m)\u001b[0m\u001b[1;33m[\u001b[0m\u001b[1;34m'airport'\u001b[0m\u001b[1;33m]\u001b[0m\u001b[1;33m.\u001b[0m\u001b[0mcount\u001b[0m\u001b[1;33m(\u001b[0m\u001b[1;33m)\u001b[0m\u001b[1;33m.\u001b[0m\u001b[0mreset_index\u001b[0m\u001b[1;33m(\u001b[0m\u001b[0mname\u001b[0m\u001b[1;33m=\u001b[0m\u001b[1;34m\"count\"\u001b[0m\u001b[1;33m)\u001b[0m\u001b[1;33m,\u001b[0m \u001b[0mon\u001b[0m \u001b[1;33m=\u001b[0m \u001b[1;34m'airport'\u001b[0m\u001b[1;33m)\u001b[0m\u001b[1;33m\u001b[0m\u001b[1;33m\u001b[0m\u001b[0m\n\u001b[0m\u001b[0;32m      3\u001b[0m \u001b[1;33m\u001b[0m\u001b[0m\n\u001b[0;32m      4\u001b[0m fig = go.Figure(data=go.Scattergeo(\n\u001b[0;32m      5\u001b[0m         \u001b[0mlon\u001b[0m \u001b[1;33m=\u001b[0m \u001b[0mdf_map\u001b[0m\u001b[1;33m[\u001b[0m\u001b[1;34m'longitude'\u001b[0m\u001b[1;33m]\u001b[0m\u001b[1;33m,\u001b[0m\u001b[1;33m\u001b[0m\u001b[1;33m\u001b[0m\u001b[0m\n",
      "\u001b[1;32m~\\AppData\\Local\\Continuum\\anaconda3\\lib\\site-packages\\pandas\\core\\frame.py\u001b[0m in \u001b[0;36m__getitem__\u001b[1;34m(self, key)\u001b[0m\n\u001b[0;32m   2984\u001b[0m             \u001b[1;32mif\u001b[0m \u001b[0mis_iterator\u001b[0m\u001b[1;33m(\u001b[0m\u001b[0mkey\u001b[0m\u001b[1;33m)\u001b[0m\u001b[1;33m:\u001b[0m\u001b[1;33m\u001b[0m\u001b[1;33m\u001b[0m\u001b[0m\n\u001b[0;32m   2985\u001b[0m                 \u001b[0mkey\u001b[0m \u001b[1;33m=\u001b[0m \u001b[0mlist\u001b[0m\u001b[1;33m(\u001b[0m\u001b[0mkey\u001b[0m\u001b[1;33m)\u001b[0m\u001b[1;33m\u001b[0m\u001b[1;33m\u001b[0m\u001b[0m\n\u001b[1;32m-> 2986\u001b[1;33m             \u001b[0mindexer\u001b[0m \u001b[1;33m=\u001b[0m \u001b[0mself\u001b[0m\u001b[1;33m.\u001b[0m\u001b[0mloc\u001b[0m\u001b[1;33m.\u001b[0m\u001b[0m_convert_to_indexer\u001b[0m\u001b[1;33m(\u001b[0m\u001b[0mkey\u001b[0m\u001b[1;33m,\u001b[0m \u001b[0maxis\u001b[0m\u001b[1;33m=\u001b[0m\u001b[1;36m1\u001b[0m\u001b[1;33m,\u001b[0m \u001b[0mraise_missing\u001b[0m\u001b[1;33m=\u001b[0m\u001b[1;32mTrue\u001b[0m\u001b[1;33m)\u001b[0m\u001b[1;33m\u001b[0m\u001b[1;33m\u001b[0m\u001b[0m\n\u001b[0m\u001b[0;32m   2987\u001b[0m \u001b[1;33m\u001b[0m\u001b[0m\n\u001b[0;32m   2988\u001b[0m         \u001b[1;31m# take() does not accept boolean indexers\u001b[0m\u001b[1;33m\u001b[0m\u001b[1;33m\u001b[0m\u001b[1;33m\u001b[0m\u001b[0m\n",
      "\u001b[1;32m~\\AppData\\Local\\Continuum\\anaconda3\\lib\\site-packages\\pandas\\core\\indexing.py\u001b[0m in \u001b[0;36m_convert_to_indexer\u001b[1;34m(self, obj, axis, is_setter, raise_missing)\u001b[0m\n\u001b[0;32m   1283\u001b[0m                 \u001b[1;31m# When setting, missing keys are not allowed, even with .loc:\u001b[0m\u001b[1;33m\u001b[0m\u001b[1;33m\u001b[0m\u001b[1;33m\u001b[0m\u001b[0m\n\u001b[0;32m   1284\u001b[0m                 \u001b[0mkwargs\u001b[0m \u001b[1;33m=\u001b[0m \u001b[1;33m{\u001b[0m\u001b[1;34m\"raise_missing\"\u001b[0m\u001b[1;33m:\u001b[0m \u001b[1;32mTrue\u001b[0m \u001b[1;32mif\u001b[0m \u001b[0mis_setter\u001b[0m \u001b[1;32melse\u001b[0m \u001b[0mraise_missing\u001b[0m\u001b[1;33m}\u001b[0m\u001b[1;33m\u001b[0m\u001b[1;33m\u001b[0m\u001b[0m\n\u001b[1;32m-> 1285\u001b[1;33m                 \u001b[1;32mreturn\u001b[0m \u001b[0mself\u001b[0m\u001b[1;33m.\u001b[0m\u001b[0m_get_listlike_indexer\u001b[0m\u001b[1;33m(\u001b[0m\u001b[0mobj\u001b[0m\u001b[1;33m,\u001b[0m \u001b[0maxis\u001b[0m\u001b[1;33m,\u001b[0m \u001b[1;33m**\u001b[0m\u001b[0mkwargs\u001b[0m\u001b[1;33m)\u001b[0m\u001b[1;33m[\u001b[0m\u001b[1;36m1\u001b[0m\u001b[1;33m]\u001b[0m\u001b[1;33m\u001b[0m\u001b[1;33m\u001b[0m\u001b[0m\n\u001b[0m\u001b[0;32m   1286\u001b[0m         \u001b[1;32melse\u001b[0m\u001b[1;33m:\u001b[0m\u001b[1;33m\u001b[0m\u001b[1;33m\u001b[0m\u001b[0m\n\u001b[0;32m   1287\u001b[0m             \u001b[1;32mtry\u001b[0m\u001b[1;33m:\u001b[0m\u001b[1;33m\u001b[0m\u001b[1;33m\u001b[0m\u001b[0m\n",
      "\u001b[1;32m~\\AppData\\Local\\Continuum\\anaconda3\\lib\\site-packages\\pandas\\core\\indexing.py\u001b[0m in \u001b[0;36m_get_listlike_indexer\u001b[1;34m(self, key, axis, raise_missing)\u001b[0m\n\u001b[0;32m   1090\u001b[0m \u001b[1;33m\u001b[0m\u001b[0m\n\u001b[0;32m   1091\u001b[0m         self._validate_read_indexer(\n\u001b[1;32m-> 1092\u001b[1;33m             \u001b[0mkeyarr\u001b[0m\u001b[1;33m,\u001b[0m \u001b[0mindexer\u001b[0m\u001b[1;33m,\u001b[0m \u001b[0mo\u001b[0m\u001b[1;33m.\u001b[0m\u001b[0m_get_axis_number\u001b[0m\u001b[1;33m(\u001b[0m\u001b[0maxis\u001b[0m\u001b[1;33m)\u001b[0m\u001b[1;33m,\u001b[0m \u001b[0mraise_missing\u001b[0m\u001b[1;33m=\u001b[0m\u001b[0mraise_missing\u001b[0m\u001b[1;33m\u001b[0m\u001b[1;33m\u001b[0m\u001b[0m\n\u001b[0m\u001b[0;32m   1093\u001b[0m         )\n\u001b[0;32m   1094\u001b[0m         \u001b[1;32mreturn\u001b[0m \u001b[0mkeyarr\u001b[0m\u001b[1;33m,\u001b[0m \u001b[0mindexer\u001b[0m\u001b[1;33m\u001b[0m\u001b[1;33m\u001b[0m\u001b[0m\n",
      "\u001b[1;32m~\\AppData\\Local\\Continuum\\anaconda3\\lib\\site-packages\\pandas\\core\\indexing.py\u001b[0m in \u001b[0;36m_validate_read_indexer\u001b[1;34m(self, key, indexer, axis, raise_missing)\u001b[0m\n\u001b[0;32m   1183\u001b[0m             \u001b[1;32mif\u001b[0m \u001b[1;32mnot\u001b[0m \u001b[1;33m(\u001b[0m\u001b[0mself\u001b[0m\u001b[1;33m.\u001b[0m\u001b[0mname\u001b[0m \u001b[1;33m==\u001b[0m \u001b[1;34m\"loc\"\u001b[0m \u001b[1;32mand\u001b[0m \u001b[1;32mnot\u001b[0m \u001b[0mraise_missing\u001b[0m\u001b[1;33m)\u001b[0m\u001b[1;33m:\u001b[0m\u001b[1;33m\u001b[0m\u001b[1;33m\u001b[0m\u001b[0m\n\u001b[0;32m   1184\u001b[0m                 \u001b[0mnot_found\u001b[0m \u001b[1;33m=\u001b[0m \u001b[0mlist\u001b[0m\u001b[1;33m(\u001b[0m\u001b[0mset\u001b[0m\u001b[1;33m(\u001b[0m\u001b[0mkey\u001b[0m\u001b[1;33m)\u001b[0m \u001b[1;33m-\u001b[0m \u001b[0mset\u001b[0m\u001b[1;33m(\u001b[0m\u001b[0max\u001b[0m\u001b[1;33m)\u001b[0m\u001b[1;33m)\u001b[0m\u001b[1;33m\u001b[0m\u001b[1;33m\u001b[0m\u001b[0m\n\u001b[1;32m-> 1185\u001b[1;33m                 \u001b[1;32mraise\u001b[0m \u001b[0mKeyError\u001b[0m\u001b[1;33m(\u001b[0m\u001b[1;34m\"{} not in index\"\u001b[0m\u001b[1;33m.\u001b[0m\u001b[0mformat\u001b[0m\u001b[1;33m(\u001b[0m\u001b[0mnot_found\u001b[0m\u001b[1;33m)\u001b[0m\u001b[1;33m)\u001b[0m\u001b[1;33m\u001b[0m\u001b[1;33m\u001b[0m\u001b[0m\n\u001b[0m\u001b[0;32m   1186\u001b[0m \u001b[1;33m\u001b[0m\u001b[0m\n\u001b[0;32m   1187\u001b[0m             \u001b[1;31m# we skip the warning on Categorical/Interval\u001b[0m\u001b[1;33m\u001b[0m\u001b[1;33m\u001b[0m\u001b[1;33m\u001b[0m\u001b[0m\n",
      "\u001b[1;31mKeyError\u001b[0m: \"['latitude', 'longitude'] not in index\""
     ]
    }
   ],
   "source": [
    "# Thrown on a map\n",
    "df_map = df[['airport','latitude','longitude']].groupby('airport').mean().merge(df.groupby(['airport'])['airport'].count().reset_index(name=\"count\"), on = 'airport')\n",
    "\n",
    "fig = go.Figure(data=go.Scattergeo(\n",
    "        lon = df_map['longitude'],\n",
    "        lat = df_map['latitude'],\n",
    "        text = df_map[['airport', 'count']],\n",
    "        mode = 'markers',\n",
    "        marker_color = df_map['count']\n",
    "        ))\n",
    "\n",
    "fig.update_layout(\n",
    "        title = 'Most trafficked US airports',\n",
    "        geo_scope='usa'\n",
    "    )\n",
    "fig.show()"
   ]
  },
  {
   "cell_type": "markdown",
   "metadata": {},
   "source": [
    "# Conlusion"
   ]
  },
  {
   "cell_type": "markdown",
   "metadata": {},
   "source": [
    "So we have looked at this dataset. Discovered some interesting things about the data."
   ]
  }
 ],
 "metadata": {
  "hide_input": false,
  "kernelspec": {
   "display_name": "Python 3",
   "language": "python",
   "name": "python3"
  },
  "language_info": {
   "codemirror_mode": {
    "name": "ipython",
    "version": 3
   },
   "file_extension": ".py",
   "mimetype": "text/x-python",
   "name": "python",
   "nbconvert_exporter": "python",
   "pygments_lexer": "ipython3",
   "version": "3.7.4"
  }
 },
 "nbformat": 4,
 "nbformat_minor": 2
}
