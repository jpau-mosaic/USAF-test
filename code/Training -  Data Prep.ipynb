{
 "cells": [
  {
   "cell_type": "code",
   "execution_count": 1,
   "metadata": {},
   "outputs": [],
   "source": [
    "# Script to Prep the data from SMES and Weather for usability and to github"
   ]
  },
  {
   "cell_type": "code",
   "execution_count": 1,
   "metadata": {},
   "outputs": [],
   "source": [
    "import pandas as pd\n",
    "import numpy as np\n",
    "import datetime"
   ]
  },
  {
   "cell_type": "markdown",
   "metadata": {},
   "source": [
    "# Weather Data"
   ]
  },
  {
   "cell_type": "raw",
   "metadata": {
    "scrolled": false
   },
   "source": [
    "df_weather_raw = pd.read_csv(r'C:\\Users\\jpau\\Documents\\Projects\\Airforce\\data\\weather.csv')"
   ]
  },
  {
   "cell_type": "raw",
   "metadata": {},
   "source": [
    "df_weather_raw.head()"
   ]
  },
  {
   "cell_type": "raw",
   "metadata": {},
   "source": [
    "df_weather_raw = df_weather_raw[df_weather_raw['special_weather'] == False]\n",
    "df_weather_raw = df_weather_raw.fillna('False')"
   ]
  },
  {
   "cell_type": "raw",
   "metadata": {},
   "source": [
    "ls_present_weather = df_weather_raw.present_weather.str.cat(sep = ';').split(';')\n",
    "ls_unique_present_weather = list(set([x.strip() for x in ls_present_weather]))\n",
    "ls_clean = list(set([x.replace('heavy','').replace('light','').replace('nearby','').replace('showers','').replace('shallow','').replace('patches of','').replace('with rain','').replace('with hail','').replace('blowing','').replace('partial','').replace(' storm','').strip() for x in ls_unique_present_weather]))\n",
    "ls_clean = [weather for weather in ls_clean if (weather != 'drizzle fog') & (weather != '')]\n",
    "\n",
    "for weather in ls_clean:\n",
    "    df_weather_raw[weather] = (df_weather_raw['present_weather'].str.contains(weather)).astype(int)"
   ]
  },
  {
   "cell_type": "raw",
   "metadata": {},
   "source": [
    "df_weather_raw = df_weather_raw.drop(columns = ['present_weather','special_weather','sky_condition','False'])\n",
    "df_weather_raw = df_weather_raw.fillna(0)"
   ]
  },
  {
   "cell_type": "raw",
   "metadata": {},
   "source": [
    "df_weather_raw"
   ]
  },
  {
   "cell_type": "raw",
   "metadata": {},
   "source": [
    "df_weather_raw.to_csv(r'C:\\Users\\jpau\\Documents\\Projects\\Airforce\\data\\weather_clean.csv')"
   ]
  },
  {
   "cell_type": "markdown",
   "metadata": {},
   "source": [
    "# Flight Data"
   ]
  },
  {
   "cell_type": "code",
   "execution_count": 123,
   "metadata": {},
   "outputs": [],
   "source": [
    "df_flight_raw = pd.read_csv(r'C:\\Users\\jpau\\Documents\\Projects\\Airforce\\data\\data.csv')"
   ]
  },
  {
   "cell_type": "code",
   "execution_count": 124,
   "metadata": {},
   "outputs": [
    {
     "data": {
      "text/html": [
       "<div>\n",
       "<style scoped>\n",
       "    .dataframe tbody tr th:only-of-type {\n",
       "        vertical-align: middle;\n",
       "    }\n",
       "\n",
       "    .dataframe tbody tr th {\n",
       "        vertical-align: top;\n",
       "    }\n",
       "\n",
       "    .dataframe thead th {\n",
       "        text-align: right;\n",
       "    }\n",
       "</style>\n",
       "<table border=\"1\" class=\"dataframe\">\n",
       "  <thead>\n",
       "    <tr style=\"text-align: right;\">\n",
       "      <th></th>\n",
       "      <th>airport</th>\n",
       "      <th>track</th>\n",
       "      <th>stid</th>\n",
       "      <th>call_sign</th>\n",
       "      <th>time</th>\n",
       "      <th>event</th>\n",
       "      <th>status</th>\n",
       "      <th>latitude</th>\n",
       "      <th>longitude</th>\n",
       "      <th>altitude</th>\n",
       "      <th>departure_airport</th>\n",
       "      <th>destination_airport</th>\n",
       "    </tr>\n",
       "  </thead>\n",
       "  <tbody>\n",
       "    <tr>\n",
       "      <th>0</th>\n",
       "      <td>KMIA</td>\n",
       "      <td>2088</td>\n",
       "      <td>9375251</td>\n",
       "      <td>UAL2081</td>\n",
       "      <td>2020-01-01 00:00:07</td>\n",
       "      <td>on</td>\n",
       "      <td>onsurface</td>\n",
       "      <td>25.80386</td>\n",
       "      <td>-80.27901</td>\n",
       "      <td>12.50</td>\n",
       "      <td>KORD</td>\n",
       "      <td>KMIA</td>\n",
       "    </tr>\n",
       "    <tr>\n",
       "      <th>1</th>\n",
       "      <td>KPIT</td>\n",
       "      <td>3534</td>\n",
       "      <td>339554</td>\n",
       "      <td>SWA4052</td>\n",
       "      <td>2020-01-01 00:00:08</td>\n",
       "      <td>off</td>\n",
       "      <td>airborne</td>\n",
       "      <td>40.50235</td>\n",
       "      <td>-80.26791</td>\n",
       "      <td>1493.75</td>\n",
       "      <td>NaN</td>\n",
       "      <td>NaN</td>\n",
       "    </tr>\n",
       "    <tr>\n",
       "      <th>2</th>\n",
       "      <td>KMSY</td>\n",
       "      <td>4057</td>\n",
       "      <td>68290</td>\n",
       "      <td>SWA5830</td>\n",
       "      <td>2020-01-01 00:00:08</td>\n",
       "      <td>on</td>\n",
       "      <td>onsurface</td>\n",
       "      <td>29.99697</td>\n",
       "      <td>-90.28297</td>\n",
       "      <td>43.75</td>\n",
       "      <td>NaN</td>\n",
       "      <td>NaN</td>\n",
       "    </tr>\n",
       "    <tr>\n",
       "      <th>3</th>\n",
       "      <td>KMEM</td>\n",
       "      <td>3263</td>\n",
       "      <td>515627</td>\n",
       "      <td>AAL1996</td>\n",
       "      <td>2020-01-01 00:00:09</td>\n",
       "      <td>on</td>\n",
       "      <td>onsurface</td>\n",
       "      <td>35.05050</td>\n",
       "      <td>-89.98753</td>\n",
       "      <td>381.25</td>\n",
       "      <td>KDFW</td>\n",
       "      <td>KMEM</td>\n",
       "    </tr>\n",
       "    <tr>\n",
       "      <th>4</th>\n",
       "      <td>KDFW</td>\n",
       "      <td>683</td>\n",
       "      <td>1390176</td>\n",
       "      <td>AAL2346</td>\n",
       "      <td>2020-01-01 00:00:11</td>\n",
       "      <td>on</td>\n",
       "      <td>onsurface</td>\n",
       "      <td>32.87883</td>\n",
       "      <td>-97.02618</td>\n",
       "      <td>668.75</td>\n",
       "      <td>KORD</td>\n",
       "      <td>KDFW</td>\n",
       "    </tr>\n",
       "  </tbody>\n",
       "</table>\n",
       "</div>"
      ],
      "text/plain": [
       "  airport  track     stid call_sign                 time event     status  \\\n",
       "0    KMIA   2088  9375251   UAL2081  2020-01-01 00:00:07    on  onsurface   \n",
       "1    KPIT   3534   339554   SWA4052  2020-01-01 00:00:08   off   airborne   \n",
       "2    KMSY   4057    68290   SWA5830  2020-01-01 00:00:08    on  onsurface   \n",
       "3    KMEM   3263   515627   AAL1996  2020-01-01 00:00:09    on  onsurface   \n",
       "4    KDFW    683  1390176   AAL2346  2020-01-01 00:00:11    on  onsurface   \n",
       "\n",
       "   latitude  longitude  altitude departure_airport destination_airport  \n",
       "0  25.80386  -80.27901     12.50              KORD                KMIA  \n",
       "1  40.50235  -80.26791   1493.75               NaN                 NaN  \n",
       "2  29.99697  -90.28297     43.75               NaN                 NaN  \n",
       "3  35.05050  -89.98753    381.25              KDFW                KMEM  \n",
       "4  32.87883  -97.02618    668.75              KORD                KDFW  "
      ]
     },
     "execution_count": 124,
     "metadata": {},
     "output_type": "execute_result"
    }
   ],
   "source": [
    "df_flight_raw.head()"
   ]
  },
  {
   "cell_type": "code",
   "execution_count": 125,
   "metadata": {},
   "outputs": [],
   "source": [
    "df_airport = df_flight_raw[['airport','latitude','longitude','altitude']]"
   ]
  },
  {
   "cell_type": "code",
   "execution_count": 132,
   "metadata": {},
   "outputs": [],
   "source": [
    "df_flight = df_flight_raw[['airport','stid','call_sign','time','event','status','departure_airport','destination_airport']].copy()"
   ]
  },
  {
   "cell_type": "code",
   "execution_count": 133,
   "metadata": {},
   "outputs": [],
   "source": [
    "# Making Duplicate Data\n",
    "df_flight_dup = df_flight.sample(frac = .08) \n",
    "\n",
    "# Making super early flights\n",
    "df_flight_early = df_flight.sample(frac = .4) \n",
    "df_flight_early['time'] = pd.to_datetime(df_flight_early['time']) - datetime.timedelta(days=(365))\n",
    "\n",
    "# Making Wrong Case Data\n",
    "df_flight['test_temp'] = df_flight['airport'].str.lower()\n",
    "df_flight['airport'] = np.where(df_flight['status'] == 'onramp', df_flight['test_temp'], df_flight['airport'])\n",
    "df_flight = df_flight.drop(columns = ['test_temp'])\n",
    "\n",
    "# Fake Null Values\n",
    "df_flight.loc[df_flight.sample(frac = .02).index, 'event'] = None \n",
    "\n",
    "list_df = [df_flight, df_flight_dup, df_flight_early]\n",
    "\n",
    "df_flight_final = pd.concat(list_df)"
   ]
  },
  {
   "cell_type": "code",
   "execution_count": 134,
   "metadata": {},
   "outputs": [],
   "source": [
    "df_flight_final = df_flight_final[['airport','call_sign','time','event','departure_airport','destination_airport']]"
   ]
  },
  {
   "cell_type": "code",
   "execution_count": 135,
   "metadata": {},
   "outputs": [],
   "source": [
    "df_flight_final = df_flight_final.sample(frac = .75) "
   ]
  },
  {
   "cell_type": "code",
   "execution_count": 136,
   "metadata": {},
   "outputs": [
    {
     "data": {
      "text/plain": [
       "(2763193, 6)"
      ]
     },
     "execution_count": 136,
     "metadata": {},
     "output_type": "execute_result"
    }
   ],
   "source": [
    "df_flight_final.shape"
   ]
  },
  {
   "cell_type": "code",
   "execution_count": 137,
   "metadata": {},
   "outputs": [],
   "source": [
    "df_flight_final.to_csv(r'C:\\Users\\jpau\\Documents\\Projects\\Airforce\\data\\flight_data_test.csv', index = False)\n",
    "df_airport.to_csv(r'C:\\Users\\jpau\\Documents\\Projects\\Airforce\\data\\airport_data.csv', index = False)"
   ]
  },
  {
   "cell_type": "code",
   "execution_count": 138,
   "metadata": {},
   "outputs": [
    {
     "name": "stdout",
     "output_type": "stream",
     "text": [
      "Mem. usage decreased to 147.57 Mb (0.0% reduction)\n",
      "<class 'pandas.core.frame.DataFrame'>\n",
      "Int64Index: 2763193 entries, 1588919 to 2092521\n",
      "Data columns (total 6 columns):\n",
      " #   Column               Dtype \n",
      "---  ------               ----- \n",
      " 0   airport              object\n",
      " 1   call_sign            object\n",
      " 2   time                 object\n",
      " 3   event                object\n",
      " 4   departure_airport    object\n",
      " 5   destination_airport  object\n",
      "dtypes: object(6)\n",
      "memory usage: 1.0 GB\n"
     ]
    }
   ],
   "source": [
    "def compress(df, verbose=True):\n",
    "    numerics = ['int16', 'int32', 'int64', 'float16', 'float32', 'float64']\n",
    "    start_mem = df.memory_usage().sum() / 1024**2    \n",
    "    for col in df.columns:\n",
    "        col_type = df[col].dtypes\n",
    "        if col_type in numerics:\n",
    "            c_min = df[col].min()\n",
    "            c_max = df[col].max()\n",
    "            if str(col_type)[:3] == 'int':\n",
    "                if c_min > np.iinfo(np.int8).min and c_max < np.iinfo(np.int8).max:\n",
    "                    df[col] = df[col].astype(np.int8)\n",
    "                elif c_min > np.iinfo(np.int16).min and c_max < np.iinfo(np.int16).max:\n",
    "                    df[col] = df[col].astype(np.int16)\n",
    "                elif c_min > np.iinfo(np.int32).min and c_max < np.iinfo(np.int32).max:\n",
    "                    df[col] = df[col].astype(np.int32)\n",
    "                elif c_min > np.iinfo(np.int64).min and c_max < np.iinfo(np.int64).max:\n",
    "                    df[col] = df[col].astype(np.int64)  \n",
    "            else:\n",
    "                if c_min > np.finfo(np.float16).min and c_max < np.finfo(np.float16).max:\n",
    "                    df[col] = df[col].astype(np.float16)\n",
    "                elif c_min > np.finfo(np.float32).min and c_max < np.finfo(np.float32).max:\n",
    "                    df[col] = df[col].astype(np.float32)\n",
    "                else:\n",
    "                    df[col] = df[col].astype(np.float64)    \n",
    "    end_mem = df.memory_usage().sum() / 1024**2\n",
    "    if verbose: print('Mem. usage decreased to {:5.2f} Mb ({:.1f}% reduction)'.format(end_mem, 100 * (start_mem - end_mem) / start_mem))\n",
    "    return df\n",
    "\n",
    "train_df = compress(df_flight_final)\n",
    "train_df.info(memory_usage='deep')"
   ]
  },
  {
   "cell_type": "markdown",
   "metadata": {},
   "source": [
    "## Making the rest of datasets"
   ]
  },
  {
   "cell_type": "code",
   "execution_count": 139,
   "metadata": {},
   "outputs": [],
   "source": [
    "# Make Complete Dataset\n",
    "\n",
    "import pandas as pd\n",
    "df = pd.read_csv(r'C:\\Users\\jpau\\Documents\\Projects\\Airforce\\data\\flight_data_test.csv')\n",
    "index = df['departure_airport'].notnull()\n",
    "new_df = df[index].copy()\n",
    "on_index = (new_df['event'].isnull()) & (new_df['airport'] == new_df['departure_airport'])\n",
    "new_df.loc[on_index,'event'] = 'Off'\n",
    "off_index = (new_df['event'].isnull()) & (new_df['airport'] == new_df['destination_airport'])\n",
    "new_df.loc[off_index,'event'] = 'On'\n",
    "index = new_df['event'].notnull()\n",
    "complete_df = new_df[index]\n",
    "complete_df.to_csv(r'C:\\Users\\jpau\\Documents\\Projects\\Airforce\\data\\complete_data_test.csv', index=False)"
   ]
  },
  {
   "cell_type": "code",
   "execution_count": 140,
   "metadata": {},
   "outputs": [],
   "source": [
    "# Make Clean Dataset\n",
    "\n",
    "import pandas as pd\n",
    "import numpy as np\n",
    "import datetime\n",
    "\n",
    "filepath = r'C:\\Users\\jpau\\Documents\\Projects\\Airforce\\data\\complete_data_test.csv'\n",
    "df = pd.read_csv(filepath)\n",
    "dedup_df = df.drop_duplicates()\n",
    "index = dedup_df['time'] >= '2020-01-01'\n",
    "timed_df = dedup_df[index].copy()\n",
    "timed_df['airport'] = timed_df['airport'].str.upper()\n",
    "index = ((timed_df['destination_airport'] == timed_df['airport']) & (timed_df['event'] == 'on')) | ((timed_df['departure_airport'] == timed_df['airport']) & (timed_df['event'] == 'off'))\n",
    "clean_df = timed_df[index].copy()\n",
    "clean_df.to_csv(r'C:\\Users\\jpau\\Documents\\Projects\\Airforce\\data\\clean_data_test.csv', index=False)"
   ]
  },
  {
   "cell_type": "code",
   "execution_count": 141,
   "metadata": {},
   "outputs": [],
   "source": [
    "# Make eda Dataset\n",
    "\n",
    "import pandas as pd\n",
    "filepath = r'C:\\Users\\jpau\\Documents\\Projects\\Airforce\\data\\clean_data_test.csv'\n",
    "df = pd.read_csv(filepath)\n",
    "df['type_of_flight'] = 'local'\n",
    "df.loc[(df['destination_airport'].str[0] != 'K') | (df['departure_airport'].str[0] != 'K'),'type_of_flight'] = 'international'\n",
    "df['airline'] = df['call_sign'].str[:3]\n",
    "df.to_csv(r'C:\\Users\\jpau\\Documents\\Projects\\Airforce\\data\\eda_data_test.csv', index = False)"
   ]
  },
  {
   "cell_type": "code",
   "execution_count": 142,
   "metadata": {},
   "outputs": [
    {
     "name": "stdout",
     "output_type": "stream",
     "text": [
      "Mem. usage decreased to 103.58 Mb (0.0% reduction)\n",
      "<class 'pandas.core.frame.DataFrame'>\n",
      "RangeIndex: 1696973 entries, 0 to 1696972\n",
      "Data columns (total 8 columns):\n",
      " #   Column               Dtype \n",
      "---  ------               ----- \n",
      " 0   airport              object\n",
      " 1   call_sign            object\n",
      " 2   time                 object\n",
      " 3   event                object\n",
      " 4   departure_airport    object\n",
      " 5   destination_airport  object\n",
      " 6   type_of_flight       object\n",
      " 7   airline              object\n",
      "dtypes: object(8)\n",
      "memory usage: 820.1 MB\n"
     ]
    }
   ],
   "source": [
    "def compress(df, verbose=True):\n",
    "    numerics = ['int16', 'int32', 'int64', 'float16', 'float32', 'float64']\n",
    "    start_mem = df.memory_usage().sum() / 1024**2    \n",
    "    for col in df.columns:\n",
    "        col_type = df[col].dtypes\n",
    "        if col_type in numerics:\n",
    "            c_min = df[col].min()\n",
    "            c_max = df[col].max()\n",
    "            if str(col_type)[:3] == 'int':\n",
    "                if c_min > np.iinfo(np.int8).min and c_max < np.iinfo(np.int8).max:\n",
    "                    df[col] = df[col].astype(np.int8)\n",
    "                elif c_min > np.iinfo(np.int16).min and c_max < np.iinfo(np.int16).max:\n",
    "                    df[col] = df[col].astype(np.int16)\n",
    "                elif c_min > np.iinfo(np.int32).min and c_max < np.iinfo(np.int32).max:\n",
    "                    df[col] = df[col].astype(np.int32)\n",
    "                elif c_min > np.iinfo(np.int64).min and c_max < np.iinfo(np.int64).max:\n",
    "                    df[col] = df[col].astype(np.int64)  \n",
    "            else:\n",
    "                if c_min > np.finfo(np.float16).min and c_max < np.finfo(np.float16).max:\n",
    "                    df[col] = df[col].astype(np.float16)\n",
    "                elif c_min > np.finfo(np.float32).min and c_max < np.finfo(np.float32).max:\n",
    "                    df[col] = df[col].astype(np.float32)\n",
    "                else:\n",
    "                    df[col] = df[col].astype(np.float64)    \n",
    "    end_mem = df.memory_usage().sum() / 1024**2\n",
    "    if verbose: print('Mem. usage decreased to {:5.2f} Mb ({:.1f}% reduction)'.format(end_mem, 100 * (start_mem - end_mem) / start_mem))\n",
    "    return df\n",
    "\n",
    "train_df = compress(df)\n",
    "train_df.info(memory_usage='deep')"
   ]
  }
 ],
 "metadata": {
  "hide_input": false,
  "kernelspec": {
   "display_name": "Python 3",
   "language": "python",
   "name": "python3"
  },
  "language_info": {
   "codemirror_mode": {
    "name": "ipython",
    "version": 3
   },
   "file_extension": ".py",
   "mimetype": "text/x-python",
   "name": "python",
   "nbconvert_exporter": "python",
   "pygments_lexer": "ipython3",
   "version": "3.7.4"
  }
 },
 "nbformat": 4,
 "nbformat_minor": 2
}
