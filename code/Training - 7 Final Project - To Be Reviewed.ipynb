{
 "cells": [
  {
   "cell_type": "markdown",
   "metadata": {},
   "source": [
    "# Introduction"
   ]
  },
  {
   "cell_type": "markdown",
   "metadata": {},
   "source": [
    "In this last notebook, we want to give you space to practice what you are learned as well as try to explore things that we didn't get to in the previous notebooks. The goal of this notebook is to be able to consolidate all that you have learned and give you an opportunity to showcase what you have learned. \n",
    "\n",
    "A good place to start would be to start with a couple of questions that you would be interested in answering. It would then be to your benefit to wrangle the data in an appropriate manner and then visualize data, weaving a story to tell about the data. You can then present the data and your story to your classmates as accomplishment to be proud of. \n",
    "\n",
    "You can start with any of the datasets that were provided. They are all in the 'data' folder. Any of the previous notebooks can also be accessed in the 'code' folder. If you run into any problems, I suggest looking at the official python documentation, searching the web if the documentation doesn't yield any help. Please feel free to ask the help of your classmates and others as well. Often, this collaboration provides valuable insight to progress when you get stuck. "
   ]
  },
  {
   "cell_type": "markdown",
   "metadata": {},
   "source": [
    "# Working Space"
   ]
  },
  {
   "cell_type": "code",
   "execution_count": null,
   "metadata": {},
   "outputs": [],
   "source": []
  }
 ],
 "metadata": {
  "hide_input": false,
  "kernelspec": {
   "display_name": "Python 3",
   "language": "python",
   "name": "python3"
  },
  "language_info": {
   "codemirror_mode": {
    "name": "ipython",
    "version": 3
   },
   "file_extension": ".py",
   "mimetype": "text/x-python",
   "name": "python",
   "nbconvert_exporter": "python",
   "pygments_lexer": "ipython3",
   "version": "3.7.4"
  }
 },
 "nbformat": 4,
 "nbformat_minor": 4
}
